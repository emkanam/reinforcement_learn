{
  "nbformat": 4,
  "nbformat_minor": 0,
  "metadata": {
    "kernelspec": {
      "name": "python3",
      "display_name": "Python 3"
    },
    "language_info": {
      "codemirror_mode": {
        "name": "ipython",
        "version": 3
      },
      "file_extension": ".py",
      "mimetype": "text/x-python",
      "name": "python",
      "nbconvert_exporter": "python",
      "pygments_lexer": "ipython3",
      "version": "3.6.7"
    },
    "colab": {
      "name": "drl.ipynb",
      "provenance": [],
      "collapsed_sections": []
    },
    "accelerator": "GPU"
  },
  "cells": [
    {
      "cell_type": "markdown",
      "metadata": {
        "id": "Xf6sqr0S8art",
        "colab_type": "text"
      },
      "source": [
        "**You may need to install [OpenCV](https://pypi.python.org/pypi/opencv-python) and [scikit-video](http://www.scikit-video.org/stable/).**"
      ]
    },
    {
      "cell_type": "code",
      "metadata": {
        "id": "9-Li4EwN8arz",
        "colab_type": "code",
        "colab": {}
      },
      "source": [
        "import keras\n",
        "import numpy as np\n",
        "import io\n",
        "import base64\n",
        "from IPython.display import HTML\n",
        "import skvideo.io\n",
        "import cv2\n",
        "import json\n",
        "\n",
        "from keras.models import Sequential,model_from_json\n",
        "from keras.layers.core import Dense\n",
        "from keras.optimizers import sgd\n",
        "from keras.utils import to_categorical\n",
        "import matplotlib.pyplot as plt\n",
        "from keras.layers import Conv2D, MaxPooling2D, Activation, AveragePooling2D,Reshape,BatchNormalization, Flatten\n",
        "\n",
        "import warnings\n",
        "warnings.filterwarnings('ignore')"
      ],
      "execution_count": 0,
      "outputs": []
    },
    {
      "cell_type": "markdown",
      "metadata": {
        "id": "BlGMIWF48asE",
        "colab_type": "text"
      },
      "source": [
        "# MiniProject on Deep Reinforcement Learning"
      ]
    },
    {
      "cell_type": "markdown",
      "metadata": {
        "id": "3Cw0XBwY8asI",
        "colab_type": "text"
      },
      "source": [
        "__Notations__: $E_p$ is the expectation under probability $p$. Please justify each of your answer and widely comment your code."
      ]
    },
    {
      "cell_type": "markdown",
      "metadata": {
        "id": "uVSleOoG8asN",
        "colab_type": "text"
      },
      "source": [
        "# Context"
      ]
    },
    {
      "cell_type": "markdown",
      "metadata": {
        "id": "SMHX7i8P8asQ",
        "colab_type": "text"
      },
      "source": [
        "In a reinforcement learning algorithm, we modelize each step $t$ as an action $a_t$ obtained from a state $s_t$, i.e. $\\{(a_{t},s_{t})_{t\\leq T}\\}$ having the Markov property. We consider a discount factor $\\gamma \\in [0,1]$ that ensures convergence. The goal is to find among all the policies $\\pi$, one that maximizes the expected reward:\n",
        "\n",
        "\\begin{equation*}\n",
        "R(\\pi)=\\sum_{t\\leq T}E_{p^{\\pi}}[\\gamma^t r(s_{t},a_{t})] \\> ,\n",
        "\\end{equation*}\n",
        "\n",
        "where: \n",
        "\\begin{equation*}p^{\\pi}(a_{0},a_{1},s_{1},...,a_{T},s_{T})=p(a_{0})\\prod_{t=1}^{T}\\pi(a_{t}|s_{t})p(s_{t+1}|s_{t},a_{t}) \\> .\n",
        "\\end{equation*}\n",
        "\n",
        "We note the $Q$-function:\n",
        "\n",
        "\\begin{equation*}Q^\\pi(s,a)=E_{p^{\\pi}}[\\sum_{t\\leq T}\\gamma^{t}r(s_{t},a_{t})|s_{0}=s,a_{0}=a] \\> .\n",
        "\\end{equation*}\n",
        "\n",
        "Thus, the optimal Q function is:\n",
        "\\begin{equation*}\n",
        "Q^*(s,a)=\\max_{\\pi}Q^\\pi(s,a) \\> .\n",
        "\\end{equation*}\n",
        "\n",
        "In this project, we will apply the deep reinforcement learning techniques to a simple game: an agent will have to learn from scratch a policy that will permit it maximizing a reward."
      ]
    },
    {
      "cell_type": "markdown",
      "metadata": {
        "id": "_CBlkdc68asS",
        "colab_type": "text"
      },
      "source": [
        "## The environment, the agent and the game"
      ]
    },
    {
      "cell_type": "markdown",
      "metadata": {
        "id": "raQYccc38asV",
        "colab_type": "text"
      },
      "source": [
        "### The environment"
      ]
    },
    {
      "cell_type": "markdown",
      "metadata": {
        "id": "N8yN66Io8asX",
        "colab_type": "text"
      },
      "source": [
        "```Environment``` is an abstract class that represents the states, rewards, and actions to obtain the new state."
      ]
    },
    {
      "cell_type": "code",
      "metadata": {
        "id": "LS82bS1w8asc",
        "colab_type": "code",
        "colab": {}
      },
      "source": [
        "class Environment(object):\n",
        "    def __init__(self):\n",
        "        pass\n",
        "\n",
        "    def act(self, act):\n",
        "        \"\"\"\n",
        "        One can act on the environment and obtain its reaction:\n",
        "        - the new state\n",
        "        - the reward of the new state\n",
        "        - should we continue the game?\n",
        "\n",
        "        :return: state, reward, game_over\n",
        "        \"\"\"\n",
        "        pass\n",
        "\n",
        "\n",
        "    def reset(self):\n",
        "        \"\"\"\n",
        "        Reinitialize the environment to a random state and returns\n",
        "        the original state\n",
        "\n",
        "        :return: state\n",
        "        \"\"\"\n",
        "        pass\n",
        "    \n",
        "    def draw(self):\n",
        "        \"\"\"\n",
        "        Visualize in the console or graphically the current state\n",
        "        \"\"\"\n",
        "        pass"
      ],
      "execution_count": 0,
      "outputs": []
    },
    {
      "cell_type": "markdown",
      "metadata": {
        "id": "d8KV_b3q8asl",
        "colab_type": "text"
      },
      "source": [
        "The method ```act``` allows to act on the environment at a given state $s_t$ (stored internally), via action $a_t$. The method will return the new state $s_{t+1}$, the reward $r(s_{t},a_{t})$ and determines if $t\\leq T$ (*game_over*).\n",
        "\n",
        "The method ```reset``` simply reinitializes the environment to a random state $s_0$.\n",
        "\n",
        "The method ```draw``` displays the current state $s_t$ (this is useful to check the behavior of the Agent).\n",
        "\n",
        "We modelize $s_t$ as a tensor, while $a_t$ is an integer."
      ]
    },
    {
      "cell_type": "markdown",
      "metadata": {
        "id": "jORGqS5f8aso",
        "colab_type": "text"
      },
      "source": [
        "### The Agent"
      ]
    },
    {
      "cell_type": "markdown",
      "metadata": {
        "id": "6pRRCcyk8asv",
        "colab_type": "text"
      },
      "source": [
        "The goal of the ```Agent``` is to interact with the ```Environment``` by proposing actions $a_t$ obtained from a given state $s_t$ to attempt to maximize its __reward__ $r(s_t,a_t)$. We propose the following abstract class:"
      ]
    },
    {
      "cell_type": "code",
      "metadata": {
        "id": "JG4DXF-V8asy",
        "colab_type": "code",
        "colab": {}
      },
      "source": [
        "class Agent(object):\n",
        "    def __init__(self, epsilon=0.1, n_action=4):\n",
        "        self.epsilon = epsilon\n",
        "        self.n_action = n_action\n",
        "    \n",
        "    def set_epsilon(self,e):\n",
        "        self.epsilon = e\n",
        "\n",
        "    def act(self,s,train=True):\n",
        "        \"\"\" This function should return the next action to do:\n",
        "        an integer between 0 and 4 (not included) with a random exploration of epsilon\"\"\"\n",
        "        if train:\n",
        "            if np.random.rand() <= self.epsilon:\n",
        "                a = np.random.randint(0, self.n_action, size=1)[0]\n",
        "            else:\n",
        "                a = self.learned_act(s)\n",
        "        else: # in some cases, this can improve the performance.. remove it if poor performances\n",
        "            a = self.learned_act(s)\n",
        "\n",
        "        return a\n",
        "\n",
        "    def learned_act(self,s):\n",
        "        \"\"\" Act via the policy of the agent, from a given state s\n",
        "        it proposes an action a\"\"\"\n",
        "        pass\n",
        "\n",
        "    def reinforce(self, s, n_s, a, r, game_over_):\n",
        "        \"\"\" This function is the core of the learning algorithm. \n",
        "        It takes as an input the current state s_, the next state n_s_\n",
        "        the action a_ used to move from s_ to n_s_ and the reward r_.\n",
        "        \n",
        "        Its goal is to learn a policy.\n",
        "        \"\"\"\n",
        "        pass\n",
        "\n",
        "    def save(self):\n",
        "        \"\"\" This function returns basic stats if applicable: the\n",
        "        loss and/or the model\"\"\"\n",
        "        pass\n",
        "\n",
        "    def load(self):\n",
        "        \"\"\" This function allows to restore a model\"\"\"\n",
        "        pass"
      ],
      "execution_count": 0,
      "outputs": []
    },
    {
      "cell_type": "markdown",
      "metadata": {
        "id": "akN5mu4C8as9",
        "colab_type": "text"
      },
      "source": [
        "***\n",
        "__Question 1__:\n",
        "Explain the function act. Why is ```epsilon``` essential?"
      ]
    },
    {
      "cell_type": "markdown",
      "metadata": {
        "id": "BskkQvCZ8atA",
        "colab_type": "text"
      },
      "source": [
        "The unction act returns an action to perform given a state.The action can be computed from a model the agent learned or a random choice with probability `epsilon`.\n",
        "The parameter `epsilon` helps the agent to perform exploration hence the agent can explore new paths and gather more information."
      ]
    },
    {
      "cell_type": "markdown",
      "metadata": {
        "id": "UvKzZBWc8atC",
        "colab_type": "text"
      },
      "source": [
        "***\n",
        "### The Game"
      ]
    },
    {
      "cell_type": "markdown",
      "metadata": {
        "id": "49enUzih8atE",
        "colab_type": "text"
      },
      "source": [
        "The ```Agent``` and the ```Environment``` work in an interlaced way as in the following (take some time to understand this code as it is the core of the project)\n",
        "\n",
        "```python\n",
        "\n",
        "epoch = 300\n",
        "env = Environment()\n",
        "agent = Agent()\n",
        "\n",
        "\n",
        "# Number of won games\n",
        "score = 0\n",
        "loss = 0\n",
        "\n",
        "\n",
        "for e in range(epoch):\n",
        "    # At each epoch, we restart to a fresh game and get the initial state\n",
        "    state = env.reset()\n",
        "    # This assumes that the games will end\n",
        "    game_over = False\n",
        "\n",
        "    win = 0\n",
        "    lose = 0\n",
        "    \n",
        "    while not game_over:\n",
        "        # The agent performs an action\n",
        "        action = agent.act(state)\n",
        "\n",
        "        # Apply an action to the environment, get the next state, the reward\n",
        "        # and if the games end\n",
        "        prev_state = state\n",
        "        state, reward, game_over = env.act(action)\n",
        "\n",
        "        # Update the counters\n",
        "        if reward > 0:\n",
        "            win = win + reward\n",
        "        if reward < 0:\n",
        "            lose = lose -reward\n",
        "\n",
        "        # Apply the reinforcement strategy\n",
        "        loss = agent.reinforce(prev_state, state,  action, reward, game_over)\n",
        "\n",
        "    # Save as a mp4\n",
        "    if e % 10 == 0:\n",
        "        env.draw(e)\n",
        "\n",
        "    # Update stats\n",
        "    score += win-lose\n",
        "\n",
        "    print(\"Epoch {:03d}/{:03d} | Loss {:.4f} | Win/lose count {}/{} ({})\"\n",
        "          .format(e, epoch, loss, win, lose, win-lose))\n",
        "    agent.save()\n",
        "```"
      ]
    },
    {
      "cell_type": "markdown",
      "metadata": {
        "id": "RusSQBMK8atH",
        "colab_type": "text"
      },
      "source": [
        "# The game, *eat cheese*"
      ]
    },
    {
      "cell_type": "markdown",
      "metadata": {
        "id": "5fQqv81p8atL",
        "colab_type": "text"
      },
      "source": [
        "A rat runs on an island and tries to eat as much as possible. The island is subdivided into $N\\times N$ cells, in which there are cheese (+0.5) and poisonous cells (-1). The rat has a visibility of 2 cells (thus it can see $5^2$ cells). The rat is given a time $T$ to accumulate as much food as possible. It can perform 4 actions: going up, down, left, right. \n",
        "\n",
        "The goal is to code an agent to solve this task that will learn by trial and error. We propose the following environment:"
      ]
    },
    {
      "cell_type": "code",
      "metadata": {
        "id": "QsKxv11P8atO",
        "colab_type": "code",
        "colab": {}
      },
      "source": [
        "class Environment(object):\n",
        "    def __init__(self, grid_size=10, max_time=500, temperature=0.1):\n",
        "        grid_size = grid_size+4\n",
        "        self.grid_size = grid_size\n",
        "        self.max_time = max_time\n",
        "        self.temperature = temperature\n",
        "\n",
        "        # board on which one plays\n",
        "        self.board = np.zeros((grid_size,grid_size))\n",
        "        self.position = np.zeros((grid_size,grid_size))\n",
        "\n",
        "        # coordinate of the cat\n",
        "        self.x = 0\n",
        "        self.y = 1\n",
        "\n",
        "        # self time\n",
        "        self.t = 0\n",
        "\n",
        "        self.scale=16\n",
        "\n",
        "        self.to_draw = np.zeros((max_time+2, grid_size*self.scale, grid_size*self.scale, 3))\n",
        "\n",
        "\n",
        "    def draw(self,e):\n",
        "        skvideo.io.vwrite(str(e) + '.mp4', self.to_draw)\n",
        "\n",
        "    def get_frame(self,t):\n",
        "        b = np.zeros((self.grid_size,self.grid_size,3))+128\n",
        "        b[self.board>0,0] = 256\n",
        "        b[self.board < 0, 2] = 256\n",
        "        b[self.x,self.y,:]=256\n",
        "        b[-2:,:,:]=0\n",
        "        b[:,-2:,:]=0\n",
        "        b[:2,:,:]=0\n",
        "        b[:,:2,:]=0\n",
        "        \n",
        "        b =  cv2.resize(b, None, fx=self.scale, fy=self.scale, interpolation=cv2.INTER_NEAREST)\n",
        "\n",
        "        self.to_draw[t,:,:,:]=b\n",
        "\n",
        "\n",
        "    def act(self, action):\n",
        "        \"\"\"This function returns the new state, reward and decides if the\n",
        "        game ends.\"\"\"\n",
        "\n",
        "        self.get_frame(int(self.t)) # save frame \n",
        "\n",
        "        self.position[self.x, self.y] = 0 # clear previous position\n",
        "\n",
        "        if action == 0: # move down\n",
        "            if self.x == self.grid_size-3: # if we are on the bottom border\n",
        "                self.x = self.x-1 # move up\n",
        "            else:\n",
        "                self.x = self.x + 1 # move down\n",
        "        elif action == 1: # move up\n",
        "            if self.x == 2: # if we are on the top border\n",
        "                self.x = self.x+1 # move down\n",
        "            else:\n",
        "                self.x = self.x-1 # move up\n",
        "        elif action == 2: # move to the right\n",
        "            if self.y == self.grid_size - 3: # if we are on the right border\n",
        "                self.y = self.y - 1 # move to the left\n",
        "            else:\n",
        "                self.y = self.y + 1 # move to the rigth\n",
        "        elif action == 3: # move to the left\n",
        "            if self.y == 2: # if we are on the left border\n",
        "                self.y = self.y + 1 # move to the right\n",
        "            else:\n",
        "                self.y = self.y - 1 # move to the left\n",
        "        else:\n",
        "            RuntimeError('Error: action not recognized')\n",
        "\n",
        "        self.position[self.x, self.y] = 1 # set new position\n",
        "        self.t = self.t + 1\n",
        "        reward = self.board[self.x, self.y] # get the reward for the action\n",
        "        self.board[self.x, self.y] = 0 # cleare the cell\n",
        "        game_over = self.t > self.max_time\n",
        "        \n",
        "        # stack the bord and position tables\n",
        "        state = np.concatenate((\n",
        "            self.board.reshape(self.grid_size, self.grid_size,1),\n",
        "            self.position.reshape(self.grid_size, self.grid_size,1)\n",
        "        ),axis=2)\n",
        "\n",
        "        # get a 5x5 state centered on the current cell\n",
        "        state = state[self.x-2:self.x+3,self.y-2:self.y+3,:] \n",
        "\n",
        "        return state, reward, game_over\n",
        "\n",
        "    def reset(self):\n",
        "        \"\"\"This function resets the game and returns the initial state\"\"\"\n",
        "        # random starting position\n",
        "        self.x = np.random.randint(3, self.grid_size-3)\n",
        "        self.y = np.random.randint(3, self.grid_size-3)\n",
        "\n",
        "        # randomly select cells and set positive values\n",
        "        bonus = 0.5*np.random.binomial(1,self.temperature,size=self.grid_size**2)\n",
        "        bonus = bonus.reshape(self.grid_size,self.grid_size)\n",
        "\n",
        "        # randomly select cells and set negative values\n",
        "        malus = -1.0*np.random.binomial(1,self.temperature,size=self.grid_size**2)\n",
        "        malus = malus.reshape(self.grid_size, self.grid_size)\n",
        "\n",
        "        # create new frames holder\n",
        "        self.to_draw = np.zeros((self.max_time+2, self.grid_size*self.scale, self.grid_size*self.scale, 3))\n",
        "\n",
        "        malus[bonus>0]=0 # set cells where bonus is > 0 to 0\n",
        "        self.board = bonus + malus # combine bonus and malus\n",
        "        self.board[0:2, :] = -1\n",
        "        self.board[:, 0:2] = -1\n",
        "        self.board[-2:, :] = -1\n",
        "        self.board[:, -2:] = -1\n",
        "\n",
        "        # create position table\n",
        "        self.position = np.zeros((self.grid_size, self.grid_size))\n",
        "        self.position[0:2, :] = -1\n",
        "        self.position[:, 0:2] = -1\n",
        "        self.position[-2:, :] = -1\n",
        "        self.position[:, -2:] = -1\n",
        "        \n",
        "        # set current cell to 0 on board and 1 on position\n",
        "        self.board[self.x,self.y] = 0\n",
        "        self.position[self.x, self.y] = 1\n",
        "        self.t = 0\n",
        "\n",
        "        # stack the bord and position tables\n",
        "        state = np.concatenate((\n",
        "            self.board.reshape(self.grid_size, self.grid_size,1),\n",
        "            self.position.reshape(self.grid_size, self.grid_size,1)\n",
        "        ),axis=2)\n",
        "\n",
        "        # get a 5x5 state centered on the current cell\n",
        "        state = state[self.x - 2:self.x + 3, self.y - 2:self.y + 3, :]\n",
        "        return state"
      ],
      "execution_count": 0,
      "outputs": []
    },
    {
      "cell_type": "markdown",
      "metadata": {
        "id": "NOr3Esct8atX",
        "colab_type": "text"
      },
      "source": [
        "The following elements are important because they correspond to the hyper parameters for this project:"
      ]
    },
    {
      "cell_type": "code",
      "metadata": {
        "id": "ExpllM5m8atZ",
        "colab_type": "code",
        "colab": {}
      },
      "source": [
        "# parameters\n",
        "size = 13\n",
        "T=200\n",
        "temperature=0.3\n",
        "epochs_train=40 # set small when debugging\n",
        "epochs_test=40 # set small when debugging\n",
        "\n",
        "# display videos\n",
        "def display_videos(name):\n",
        "    video = io.open(name, 'r+b').read()\n",
        "    encoded = base64.b64encode(video)\n",
        "    return '''<video alt=\"test\" controls>\n",
        "                <source src=\"data:video/mp4;base64,{0}\" type=\"video/mp4\" />\n",
        "             </video>'''.format(encoded.decode('ascii'))"
      ],
      "execution_count": 0,
      "outputs": []
    },
    {
      "cell_type": "markdown",
      "metadata": {
        "id": "SIne02Kf8atl",
        "colab_type": "text"
      },
      "source": [
        "__Question 2__ Explain the use of the arrays ```position``` and ```board```."
      ]
    },
    {
      "cell_type": "markdown",
      "metadata": {
        "id": "NARVJ3rx8atn",
        "colab_type": "text"
      },
      "source": [
        "The board represents the game environment and position the position of the rat on the grid. Position and board are overlaped to give a full description of the state : the position of the rat on the grid and the visible cells. Since the state is a tensor, we cannot mix a portion of the board and the coordinates x and y of the rate hence we use another tensor to describe the position of the rat."
      ]
    },
    {
      "cell_type": "markdown",
      "metadata": {
        "id": "j3frTvBj8atq",
        "colab_type": "text"
      },
      "source": [
        "## Random Agent"
      ]
    },
    {
      "cell_type": "markdown",
      "metadata": {
        "id": "nIvI0wbe8ats",
        "colab_type": "text"
      },
      "source": [
        "***\n",
        "__Question 3__ Implement a random Agent (only ```learned_act``` needs to be implemented):"
      ]
    },
    {
      "cell_type": "code",
      "metadata": {
        "id": "nnq1KMAK8atw",
        "colab_type": "code",
        "colab": {}
      },
      "source": [
        "class RandomAgent(Agent):\n",
        "    def __init__(self):\n",
        "        super(RandomAgent, self).__init__()\n",
        "        pass\n",
        "\n",
        "    def learned_act(self, s):\n",
        "        \"\"\"Random action while avoiding negative cells\"\"\"\n",
        "        # get score for each action\n",
        "        rewards = [s[3,2,0], s[1,2,0], s[2,3,0], s[2,1,0]]\n",
        "        # get actions that return positive score\n",
        "        indexes = [i for i in range(4) if rewards[i] > 0]\n",
        "        # if no positive action found get cells with 0 score\n",
        "        if len(indexes) == 0:\n",
        "            indexes = [i for i in range(4) if rewards[i] == 0]\n",
        "        \n",
        "        # if we are surrounded by negative cells\n",
        "        # this only happens at the first iteration\n",
        "        if len(indexes) == 0:\n",
        "            return np.random.randint(self.n_actions)\n",
        "        \n",
        "        # we take random decisions\n",
        "        return np.random.choice(indexes)"
      ],
      "execution_count": 0,
      "outputs": []
    },
    {
      "cell_type": "markdown",
      "metadata": {
        "id": "eeBeZ0o08at3",
        "colab_type": "text"
      },
      "source": [
        "***\n",
        "***\n",
        "__Question 4__ Visualize the game moves. You need to fill in the following function for the evaluation:"
      ]
    },
    {
      "cell_type": "code",
      "metadata": {
        "id": "KLyO9jP08at7",
        "colab_type": "code",
        "colab": {}
      },
      "source": [
        "def test(agent,env,epochs,prefix=''):\n",
        "    scores = [] # store all average scores\n",
        "    # Number of won games\n",
        "    score = 0\n",
        "        \n",
        "    for e in range(epochs):\n",
        "        # At each epoch, we restart to a fresh game and get the initial state\n",
        "        state = env.reset()\n",
        "        # This assumes that the games will end\n",
        "        game_over = False\n",
        "        \n",
        "        win = 0\n",
        "        lose = 0\n",
        "\n",
        "        while not game_over:\n",
        "            # The agent performs an action\n",
        "            action = agent.act(state, train=False)\n",
        "\n",
        "            # Apply an action to the environment, get the next state, the reward\n",
        "            # and if the games end\n",
        "            state, reward, game_over = env.act(action)\n",
        "\n",
        "            # Update the counters\n",
        "            if reward > 0:\n",
        "                win = win + reward\n",
        "            if reward < 0:\n",
        "                lose = lose - reward\n",
        "        \n",
        "        # Save as a mp4\n",
        "        env.draw(prefix+str(e))\n",
        "\n",
        "        # Update stats\n",
        "        score = score + win-lose\n",
        "        scores.append(score/(1+e))\n",
        "\n",
        "        print(\"Win/lose count {}/{}. Average score ({})\"\n",
        "              .format(win, lose, score/(1+e)))\n",
        "    print('Final score: '+str(score/epochs))\n",
        "    return scores"
      ],
      "execution_count": 0,
      "outputs": []
    },
    {
      "cell_type": "code",
      "metadata": {
        "id": "-hh3ZyAG8auD",
        "colab_type": "code",
        "outputId": "6b31043a-24dc-4b11-ec71-5c6f2f50bd3e",
        "colab": {
          "base_uri": "https://localhost:8080/",
          "height": 990
        }
      },
      "source": [
        "# Initialize the game\n",
        "env = Environment(grid_size=size, max_time=T,temperature=temperature)\n",
        "\n",
        "# Initialize the agent!\n",
        "agent = RandomAgent()\n",
        "\n",
        "scores = test(agent,env,epochs_test,prefix='random') # test on random agent\n",
        "HTML(display_videos('random0.mp4'))"
      ],
      "execution_count": 12,
      "outputs": [
        {
          "output_type": "stream",
          "text": [
            "Win/lose count 6.0/0. Average score (6.0)\n",
            "Win/lose count 17.0/0. Average score (11.5)\n",
            "Win/lose count 9.5/0. Average score (10.833333333333334)\n",
            "Win/lose count 15.5/0. Average score (12.0)\n",
            "Win/lose count 17.0/0. Average score (13.0)\n",
            "Win/lose count 12.5/0. Average score (12.916666666666666)\n",
            "Win/lose count 15.5/0. Average score (13.285714285714286)\n",
            "Win/lose count 17.5/0. Average score (13.8125)\n",
            "Win/lose count 12.5/0. Average score (13.666666666666666)\n",
            "Win/lose count 11.5/0. Average score (13.45)\n",
            "Win/lose count 16.5/0. Average score (13.727272727272727)\n",
            "Win/lose count 11.5/0. Average score (13.541666666666666)\n",
            "Win/lose count 13.5/0. Average score (13.538461538461538)\n",
            "Win/lose count 17.5/0. Average score (13.821428571428571)\n",
            "Win/lose count 15.0/0. Average score (13.9)\n",
            "Win/lose count 11.5/0. Average score (13.75)\n",
            "Win/lose count 13.0/0. Average score (13.705882352941176)\n",
            "Win/lose count 8.5/0. Average score (13.416666666666666)\n",
            "Win/lose count 15.0/0. Average score (13.5)\n",
            "Win/lose count 16.5/0. Average score (13.65)\n",
            "Win/lose count 12.5/0. Average score (13.595238095238095)\n",
            "Win/lose count 14.0/0. Average score (13.613636363636363)\n",
            "Win/lose count 20.5/0. Average score (13.91304347826087)\n",
            "Win/lose count 26.5/0. Average score (14.4375)\n",
            "Win/lose count 19.0/0. Average score (14.62)\n",
            "Win/lose count 6.0/0. Average score (14.288461538461538)\n",
            "Win/lose count 13.5/0. Average score (14.25925925925926)\n",
            "Win/lose count 16.5/0. Average score (14.339285714285714)\n",
            "Win/lose count 15.0/0. Average score (14.362068965517242)\n",
            "Win/lose count 11.0/0. Average score (14.25)\n",
            "Win/lose count 12.0/0. Average score (14.17741935483871)\n",
            "Win/lose count 17.0/0. Average score (14.265625)\n",
            "Win/lose count 24.5/0. Average score (14.575757575757576)\n",
            "Win/lose count 21.5/0. Average score (14.779411764705882)\n",
            "Win/lose count 16.5/0. Average score (14.82857142857143)\n",
            "Win/lose count 25.0/0. Average score (15.11111111111111)\n",
            "Win/lose count 19.5/0. Average score (15.22972972972973)\n",
            "Win/lose count 10.5/0. Average score (15.105263157894736)\n",
            "Win/lose count 11.5/0. Average score (15.012820512820513)\n",
            "Win/lose count 11.5/0. Average score (14.925)\n",
            "Final score: 14.925\n"
          ],
          "name": "stdout"
        },
        {
          "output_type": "execute_result",
          "data": {
            "text/html": [
              "<video alt=\"test\" controls>\n",
              "                <source src=\"data:video/mp4;base64,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\" type=\"video/mp4\" />\n",
              "             </video>"
            ],
            "text/plain": [
              "<IPython.core.display.HTML object>"
            ]
          },
          "metadata": {
            "tags": []
          },
          "execution_count": 12
        }
      ]
    },
    {
      "cell_type": "code",
      "metadata": {
        "id": "cMFyIa651Aol",
        "colab_type": "code",
        "colab": {
          "base_uri": "https://localhost:8080/",
          "height": 282
        },
        "outputId": "86ab2361-50f7-4e35-b85d-1b0d3c751c12"
      },
      "source": [
        "plt.plot(scores)"
      ],
      "execution_count": 13,
      "outputs": [
        {
          "output_type": "execute_result",
          "data": {
            "text/plain": [
              "[<matplotlib.lines.Line2D at 0x7f8c94530278>]"
            ]
          },
          "metadata": {
            "tags": []
          },
          "execution_count": 13
        },
        {
          "output_type": "display_data",
          "data": {
            "image/png": "[encoded data removed]",
            "text/plain": [
              "<Figure size 432x288 with 1 Axes>"
            ]
          },
          "metadata": {
            "tags": []
          }
        }
      ]
    },
    {
      "cell_type": "markdown",
      "metadata": {
        "id": "D-3Unj6a8auL",
        "colab_type": "text"
      },
      "source": [
        "***\n",
        "## DQN"
      ]
    },
    {
      "cell_type": "markdown",
      "metadata": {
        "id": "v2jov4Dq8auN",
        "colab_type": "text"
      },
      "source": [
        "Let us assume here that $T=\\infty$.\n",
        "\n",
        "***\n",
        "__Question 5__ Let $\\pi$ be a policy, show that:\n",
        "\n",
        "\\begin{equation*}\n",
        "Q^{\\pi}(s,a)=E_{(s',a')\\sim p(.|s,a)}[r(s,a)+\\gamma Q^{\\pi}(s',a')]\n",
        "\\end{equation*}\n",
        "\n",
        "Then, show that for the optimal policy $\\pi^*$ (we assume its existence), the following holds: \n",
        "\n",
        "\\begin{equation*}\n",
        "Q^{*}(s,a)=E_{s'\\sim \\pi^*(.|s,a)}[r(s,a)+\\gamma\\max_{a'}Q^{*}(s',a')].\n",
        "\\end{equation*}\n",
        "Finally, deduce that a plausible objective is:\n",
        "\n",
        "\\begin{equation*}\n",
        "\\mathcal{L}(\\theta)=E_{s' \\sim \\pi^*(.|s,a)}\\Vert r+\\gamma\\max\\max_{a'}Q(s',a',\\theta)-Q(s,a,\\theta)\\Vert^{2}.\n",
        "\\end{equation*}\n",
        "\n",
        "\n"
      ]
    },
    {
      "cell_type": "markdown",
      "metadata": {
        "id": "N1FCW2fu8auR",
        "colab_type": "text"
      },
      "source": [
        "$$\n",
        "Q^\\pi(s,a)=E_{p^{\\pi}}[\\sum_{t=0}^{+\\infty} \\gamma^{t}r(s_{t},a_{t})|s_{0}=s,a_{0}=a]\n",
        "$$\n",
        "\n",
        "$$\n",
        "= r(s,a) + E_{p^{\\pi}}[\\sum_{t=1}^{+\\infty} \\gamma^{t}r(s_{t},a_{t})|s_{0}=s,a_{0}=a]\n",
        "$$\n",
        "\n",
        "Computing the second part of the previous expression, we get:\n",
        "$$\n",
        "A = E_{p^{\\pi}}[\\sum_{t=1}^{+\\infty} \\gamma^{t}r(s_{t},a_{t})|s_{0}=s,a_{0}=a]\n",
        "$$\n",
        "\n",
        "$$\n",
        "= E_{(s',a')} [\\gamma E_{p^{\\pi}}[\\sum_{t=0}^{+\\infty} \\gamma^{t}r(s_{t+1},a_{t+1})|s_1=s',a_1=a'] | s_0=s,a_0=a]\n",
        "$$\n",
        "\n",
        "$$\n",
        "= E_{(s',a')} [\\gamma Q^\\pi(s',a') | s_0=s,a_0=a]\n",
        "$$\n",
        "\n",
        "$$\n",
        "= E_{(s',a')\\sim p(.|s,a)} [\\gamma Q^\\pi(s',a')]\n",
        "$$\n",
        "\n",
        "Replacing the result in the first calculus we get the result:\n",
        "$$\n",
        "Q^\\pi(s,a) = r(s,a) + E_{(s',a')\\sim p(.|s,a)} [\\gamma Q^\\pi(s',a')]\n",
        "$$\n",
        "\n",
        "$$\n",
        "= E_{(s',a')\\sim p(.|s,a)} [r(s,a) + \\gamma Q^\\pi(s',a')]\n",
        "$$\n",
        "\n",
        "Now assume we have the best policy $\\pi^*$. If we know all the $Q$-function values for the next state $s'$ tha we will reach by taking action $a$ from state $s$, that is to say if we know all $Q^*(s',a')$ where $s' \\sim \\pi^*(.|s,a)$, then the optimal strategy will be to maximize the expected value of $r(s,a) + \\gamma Q^*(s',a')$. Hence we get the formula:\n",
        "\\begin{equation*}\n",
        "Q^{*}(s,a)=E_{s'\\sim \\pi^*(.|s,a)}[r(s,a)+\\gamma\\max_{a'}Q^{*}(s',a')]\n",
        "\\end{equation*}\n",
        "\n",
        "We need to train our model to get the actions that will return the optimal $Q$-function value. So a possible loss is the distance between the value from the bellman equation of $Q^*$ and the value returned by our model. This can be formulated as:\n",
        "\\begin{equation*}\n",
        "\\mathcal{L}(\\theta)=E_{s' \\sim \\pi^*(.|s,a)}\\Vert r+\\gamma \\max_{a'}Q(s',a',\\theta)-Q(s,a,\\theta)\\Vert^{2}\n",
        "\\end{equation*}\n"
      ]
    },
    {
      "cell_type": "markdown",
      "metadata": {
        "id": "u706DZye8auX",
        "colab_type": "text"
      },
      "source": [
        "***\n",
        "The DQN-learning algorithm relies on these derivations to train the parameters $\\theta$ of a Deep Neural Network:\n",
        "\n",
        "1. At the state $s_t$, select the action $a_t$ with best reward using $Q_t$ and store the results;\n",
        "\n",
        "2. Obtain the new state $s_{t+1}$ from the environment $p$;\n",
        "\n",
        "3. Store $(s_t,a_t,s_{t+1})$;\n",
        "\n",
        "4. Obtain $Q_{t+1}$ by minimizing  $\\mathcal{L}$ from a recovered batch from the previously stored results.\n",
        "\n",
        "***\n",
        "__Question 6__ Implement the class ```Memory``` that stores moves (in a replay buffer) via ```remember``` and provides a ```random_access``` to these. Specify a maximum memory size to avoid side effects. You can for example use a ```list()``` and set by default ```max_memory=100```."
      ]
    },
    {
      "cell_type": "code",
      "metadata": {
        "id": "ncK_nEZ18auZ",
        "colab_type": "code",
        "colab": {}
      },
      "source": [
        "class Memory(object):\n",
        "    def __init__(self, max_memory=100):\n",
        "        self.max_memory = max_memory # maximum memory\n",
        "        self.memory = list() # replay buffer\n",
        "        self.size = 0 # buffer size\n",
        "\n",
        "    def remember(self, m):\n",
        "        # if we are out of memory\n",
        "        if self.size == self.max_memory:\n",
        "            self.memory.pop(0) # remove first element in memory\n",
        "            self.size -= 1 # decrease size\n",
        "        \n",
        "        self.memory.append(m) # add new element in memory\n",
        "        self.size += 1 # increase size\n",
        "\n",
        "    def random_access(self):\n",
        "        idx = np.random.randint(self.size) # random element index\n",
        "        return self.memory[idx]"
      ],
      "execution_count": 0,
      "outputs": []
    },
    {
      "cell_type": "markdown",
      "metadata": {
        "id": "mv7gYc6x8aui",
        "colab_type": "text"
      },
      "source": [
        "***\n",
        "The pipeline we will use for training is given below:"
      ]
    },
    {
      "cell_type": "code",
      "metadata": {
        "id": "IpBhArS78auk",
        "colab_type": "code",
        "colab": {}
      },
      "source": [
        "def train(agent,env,epoch,prefix=''):\n",
        "    scores = []\n",
        "    losses = []\n",
        "    \n",
        "\n",
        "    for e in range(epoch):\n",
        "        # At each epoch, we restart to a fresh game and get the initial state\n",
        "        state = env.reset()\n",
        "        # This assumes that the games will terminate\n",
        "        game_over = False\n",
        "\n",
        "        win, lose, loss, score = [0, 0, 0, 0]\n",
        "\n",
        "        while not game_over:\n",
        "            # The agent performs an action\n",
        "            action = agent.act(state)\n",
        "\n",
        "            # Apply an action to the environment, get the next state, the reward\n",
        "            # and if the games end\n",
        "            prev_state = state\n",
        "            state, reward, game_over = env.act(action)\n",
        "\n",
        "            # Update the counters\n",
        "            if reward > 0:\n",
        "                win = win + reward\n",
        "            if reward < 0:\n",
        "                lose = lose -reward\n",
        "\n",
        "            # Apply the reinforcement strategy\n",
        "            loss += agent.reinforce(prev_state, state,  action, reward, game_over)\n",
        "\n",
        "        # Save as a mp4\n",
        "        if e % 10 == 0:\n",
        "            env.draw(prefix+str(e))\n",
        "\n",
        "        # Update stats\n",
        "        score += win-lose\n",
        "        scores.append(score)\n",
        "        losses.append(loss/env.t)\n",
        "\n",
        "        print(\"Epoch {:03d}/{:03d} | Loss {:.4f} | Win/lose count {}/{} ({})\"\n",
        "              .format(e, epoch, loss/env.t, win, lose, win-lose))\n",
        "        agent.save(name_weights=prefix+'model.h5',name_model=prefix+'model.json')\n",
        "    return scores, losses"
      ],
      "execution_count": 0,
      "outputs": []
    },
    {
      "cell_type": "markdown",
      "metadata": {
        "id": "AD7pA5lk8aur",
        "colab_type": "text"
      },
      "source": [
        "***\n",
        "__Question 7__ Implement the DQN training algorithm using a cascade of fully connected layers. You can use different learning rate, batch size or memory size parameters. In particular, the loss might oscillate while the player will start to win the games. You have to find a good criterium."
      ]
    },
    {
      "cell_type": "code",
      "metadata": {
        "id": "hyvuapjg8auu",
        "colab_type": "code",
        "colab": {}
      },
      "source": [
        "class DQN(Agent):\n",
        "    def __init__(self, grid_size,  epsilon = 0.1, memory_size=100, batch_size = 16,n_state=2):\n",
        "        super(DQN, self).__init__(epsilon = epsilon)\n",
        "\n",
        "        # Discount for Q learning\n",
        "        self.discount = 0.99\n",
        "        \n",
        "        self.grid_size = grid_size\n",
        "        \n",
        "        # number of state\n",
        "        self.n_state = n_state\n",
        "\n",
        "        # Memory\n",
        "        self.memory = Memory(memory_size)\n",
        "        \n",
        "        # Batch size when learning\n",
        "        self.batch_size = batch_size\n",
        "        \n",
        "    def learned_act(self, s):\n",
        "        # get action from state s\n",
        "        s_ = np.array([s])\n",
        "        return np.argmax(self.model.predict(s_))\n",
        "\n",
        "    def reinforce(self, s_, n_s_, a_, r_, game_over_):\n",
        "        # Two steps: first memorize the states, second learn from the pool\n",
        "\n",
        "        self.memory.remember([s_, n_s_, a_, r_, game_over_])\n",
        "        \n",
        "        input_states = np.zeros((self.batch_size, 5,5,self.n_state))\n",
        "        target_q = np.zeros((self.batch_size, 4))\n",
        "        \n",
        "        for i in range(self.batch_size):\n",
        "            ######## FILL IN\n",
        "            [s, n_s, a, r, _] = self.memory.random_access()\n",
        "            input_states[i, :, :, :] = s\n",
        "            target_q[i] = self.model.predict(np.array([s]))\n",
        "            \n",
        "            if game_over_:\n",
        "                ######## FILL IN\n",
        "                target_q[i][a] = r\n",
        "            else:\n",
        "                ######## FILL IN\n",
        "                target_q[i][a] = r + self.discount*np.max(self.model.predict(np.array([n_s])))\n",
        "        ######## FILL IN\n",
        "        # HINT: Clip the target to avoid exploiding gradients.. -- clipping is a bit tighter\n",
        "        target_q = np.clip(target_q, -2, 2)\n",
        "\n",
        "        l = self.model.train_on_batch(input_states, target_q)\n",
        "\n",
        "        return l\n",
        "\n",
        "    def save(self,name_weights='model.h5',name_model='model.json'):\n",
        "        self.model.save_weights(name_weights, overwrite=True)\n",
        "        with open(name_model, \"w\") as outfile:\n",
        "            json.dump(self.model.to_json(), outfile)\n",
        "            \n",
        "    def load(self,name_weights='model.h5',name_model='model.json'):\n",
        "        with open(name_model, \"r\") as jfile:\n",
        "            model = model_from_json(json.load(jfile))\n",
        "        model.load_weights(name_weights)\n",
        "        model.compile(\"sgd\", \"mse\")\n",
        "        self.model = model\n",
        "\n",
        "            \n",
        "class DQN_FC(DQN):\n",
        "    def __init__(self, *args, lr=0.1,**kwargs):\n",
        "        super(DQN_FC, self).__init__( *args,**kwargs)\n",
        "        \n",
        "        # NN Model\n",
        "        \n",
        "        ####### FILL IN\n",
        "        model = Sequential([\n",
        "          Flatten(input_shape=(5,5,self.n_state)),\n",
        "          Dense(70, activation='relu'),\n",
        "          Dense(70, activation='relu'),\n",
        "          Dense(70, activation='relu'),\n",
        "          Dense(70, activation='relu'),\n",
        "          Dense(4, activation='linear')\n",
        "        ])\n",
        "        \n",
        "        model.compile(sgd(lr=lr, decay=1e-4, momentum=0.0), \"mse\")\n",
        "        self.model = model\n",
        "        "
      ],
      "execution_count": 0,
      "outputs": []
    },
    {
      "cell_type": "code",
      "metadata": {
        "id": "L-K6JPCw8au4",
        "colab_type": "code",
        "outputId": "ebdc86fd-b59e-4562-a90a-befe4475bd45",
        "colab": {
          "base_uri": "https://localhost:8080/",
          "height": 993
        }
      },
      "source": [
        "mem_size=100\n",
        "epochs_train=20\n",
        "lr=0.1\n",
        "b_size = 20\n",
        "\n",
        "\n",
        "env = Environment(grid_size=size, max_time=T, temperature=0.3)\n",
        "agent = DQN_FC(size, lr=lr, epsilon=0.1, memory_size=mem_size, batch_size=b_size)\n",
        "scores, losses = train(agent, env, epochs_train, prefix='fc_train')\n",
        "HTML(display_videos('fc_train0.mp4'))"
      ],
      "execution_count": 17,
      "outputs": [
        {
          "output_type": "stream",
          "text": [
            "WARNING:tensorflow:From /usr/local/lib/python3.6/dist-packages/keras/backend/tensorflow_backend.py:66: The name tf.get_default_graph is deprecated. Please use tf.compat.v1.get_default_graph instead.\n",
            "\n",
            "WARNING:tensorflow:From /usr/local/lib/python3.6/dist-packages/keras/backend/tensorflow_backend.py:541: The name tf.placeholder is deprecated. Please use tf.compat.v1.placeholder instead.\n",
            "\n",
            "WARNING:tensorflow:From /usr/local/lib/python3.6/dist-packages/keras/backend/tensorflow_backend.py:4432: The name tf.random_uniform is deprecated. Please use tf.random.uniform instead.\n",
            "\n",
            "WARNING:tensorflow:From /usr/local/lib/python3.6/dist-packages/keras/optimizers.py:793: The name tf.train.Optimizer is deprecated. Please use tf.compat.v1.train.Optimizer instead.\n",
            "\n",
            "WARNING:tensorflow:From /usr/local/lib/python3.6/dist-packages/keras/backend/tensorflow_backend.py:190: The name tf.get_default_session is deprecated. Please use tf.compat.v1.get_default_session instead.\n",
            "\n",
            "WARNING:tensorflow:From /usr/local/lib/python3.6/dist-packages/keras/backend/tensorflow_backend.py:207: The name tf.global_variables is deprecated. Please use tf.compat.v1.global_variables instead.\n",
            "\n",
            "WARNING:tensorflow:From /usr/local/lib/python3.6/dist-packages/keras/backend/tensorflow_backend.py:216: The name tf.is_variable_initialized is deprecated. Please use tf.compat.v1.is_variable_initialized instead.\n",
            "\n",
            "WARNING:tensorflow:From /usr/local/lib/python3.6/dist-packages/keras/backend/tensorflow_backend.py:223: The name tf.variables_initializer is deprecated. Please use tf.compat.v1.variables_initializer instead.\n",
            "\n",
            "WARNING:tensorflow:From /usr/local/lib/python3.6/dist-packages/keras/backend/tensorflow_backend.py:1033: The name tf.assign_add is deprecated. Please use tf.compat.v1.assign_add instead.\n",
            "\n",
            "WARNING:tensorflow:From /usr/local/lib/python3.6/dist-packages/keras/backend/tensorflow_backend.py:1020: The name tf.assign is deprecated. Please use tf.compat.v1.assign instead.\n",
            "\n",
            "Epoch 000/020 | Loss 0.0174 | Win/lose count 4.0/11.0 (-7.0)\n",
            "Epoch 001/020 | Loss 0.0061 | Win/lose count 3.5/5.0 (-1.5)\n",
            "Epoch 002/020 | Loss 0.0083 | Win/lose count 5.0/6.0 (-1.0)\n",
            "Epoch 003/020 | Loss 0.0115 | Win/lose count 5.0/4.0 (1.0)\n",
            "Epoch 004/020 | Loss 0.0071 | Win/lose count 2.0/3.0 (-1.0)\n",
            "Epoch 005/020 | Loss 0.0145 | Win/lose count 7.5/6.0 (1.5)\n",
            "Epoch 006/020 | Loss 0.0091 | Win/lose count 3.5/4.0 (-0.5)\n",
            "Epoch 007/020 | Loss 0.0090 | Win/lose count 2.0/1.0 (1.0)\n",
            "Epoch 008/020 | Loss 0.0086 | Win/lose count 5.0/3.0 (2.0)\n",
            "Epoch 009/020 | Loss 0.0108 | Win/lose count 8.5/7.0 (1.5)\n",
            "Epoch 010/020 | Loss 0.0083 | Win/lose count 4.5/3.0 (1.5)\n",
            "Epoch 011/020 | Loss 0.0107 | Win/lose count 3.0/5.0 (-2.0)\n",
            "Epoch 012/020 | Loss 0.0066 | Win/lose count 2.5/6.0 (-3.5)\n",
            "Epoch 013/020 | Loss 0.0090 | Win/lose count 6.5/4.0 (2.5)\n",
            "Epoch 014/020 | Loss 0.0076 | Win/lose count 3.5/6.0 (-2.5)\n",
            "Epoch 015/020 | Loss 0.0075 | Win/lose count 5.5/3.0 (2.5)\n",
            "Epoch 016/020 | Loss 0.0086 | Win/lose count 5.5/4.0 (1.5)\n",
            "Epoch 017/020 | Loss 0.0074 | Win/lose count 6.0/1.0 (5.0)\n",
            "Epoch 018/020 | Loss 0.0069 | Win/lose count 8.0/3.0 (5.0)\n",
            "Epoch 019/020 | Loss 0.0084 | Win/lose count 11.5/4.0 (7.5)\n"
          ],
          "name": "stdout"
        },
        {
          "output_type": "execute_result",
          "data": {
            "text/html": [
              "<video alt=\"test\" controls>\n",
              "                <source src=\"data:video/mp4;base64,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\" type=\"video/mp4\" />\n",
              "             </video>"
            ],
            "text/plain": [
              "<IPython.core.display.HTML object>"
            ]
          },
          "metadata": {
            "tags": []
          },
          "execution_count": 17
        }
      ]
    },
    {
      "cell_type": "code",
      "metadata": {
        "id": "bYgPzT9v3FmI",
        "colab_type": "code",
        "colab": {
          "base_uri": "https://localhost:8080/",
          "height": 283
        },
        "outputId": "c4bffc1e-14ef-4a79-8a3a-206770919308"
      },
      "source": [
        "plt.plot(scores)"
      ],
      "execution_count": 18,
      "outputs": [
        {
          "output_type": "execute_result",
          "data": {
            "text/plain": [
              "[<matplotlib.lines.Line2D at 0x7f8c9003f5c0>]"
            ]
          },
          "metadata": {
            "tags": []
          },
          "execution_count": 18
        },
        {
          "output_type": "display_data",
          "data": {
            "image/png": "[encoded data removed]",
            "text/plain": [
              "<Figure size 432x288 with 1 Axes>"
            ]
          },
          "metadata": {
            "tags": []
          }
        }
      ]
    },
    {
      "cell_type": "markdown",
      "metadata": {
        "id": "Rlk60ooO8avD",
        "colab_type": "text"
      },
      "source": [
        "***\n",
        "***\n",
        "__Question 8__ Implement the DQN training algorithm using a CNN (for example, 2 convolutional layers and one final fully connected layer)."
      ]
    },
    {
      "cell_type": "code",
      "metadata": {
        "id": "aM7_qu8b8avG",
        "colab_type": "code",
        "colab": {}
      },
      "source": [
        "class DQN_CNN(DQN):\n",
        "    def __init__(self, *args,lr=0.1,**kwargs):\n",
        "        super(DQN_CNN, self).__init__(*args,**kwargs)\n",
        "        \n",
        "        ###### FILL IN\n",
        "        model = Sequential([\n",
        "          Conv2D(6, 2, activation='relu', input_shape=(5,5,self.n_state)),\n",
        "          Conv2D(6, 2, activation='relu'),\n",
        "          Flatten(),\n",
        "          Dense(70, activation='relu'),\n",
        "          Dense(70, activation='relu'),\n",
        "          Dense(70, activation='relu'),\n",
        "          Dense(4, activation='linear')\n",
        "        ])\n",
        "        \n",
        "        model.compile(sgd(lr=lr, decay=1e-4, momentum=0.0), \"mse\")\n",
        "        self.model = model"
      ],
      "execution_count": 0,
      "outputs": []
    },
    {
      "cell_type": "code",
      "metadata": {
        "id": "_AcndQ8O8avN",
        "colab_type": "code",
        "outputId": "3f08e613-cfc4-4c69-a462-2ed85c3f6eb9",
        "colab": {
          "base_uri": "https://localhost:8080/",
          "height": 633
        }
      },
      "source": [
        "env = Environment(grid_size=size, max_time=T, temperature=0.3)\n",
        "agent = DQN_CNN(size, lr=lr, epsilon=0.1, memory_size=mem_size, batch_size=b_size)\n",
        "scores, losses = train(agent,env,epochs_train,prefix='cnn_train')\n",
        "HTML(display_videos('cnn_train10.mp4'))"
      ],
      "execution_count": 20,
      "outputs": [
        {
          "output_type": "stream",
          "text": [
            "Epoch 000/020 | Loss 0.0081 | Win/lose count 1.0/6.0 (-5.0)\n",
            "Epoch 001/020 | Loss 0.0038 | Win/lose count 0.5/4.0 (-3.5)\n",
            "Epoch 002/020 | Loss 0.0069 | Win/lose count 4.5/3.0 (1.5)\n",
            "Epoch 003/020 | Loss 0.0055 | Win/lose count 3.5/2.0 (1.5)\n",
            "Epoch 004/020 | Loss 0.0130 | Win/lose count 6.5/5.0 (1.5)\n",
            "Epoch 005/020 | Loss 0.0102 | Win/lose count 6.0/2.0 (4.0)\n",
            "Epoch 006/020 | Loss 0.0131 | Win/lose count 5.0/7.0 (-2.0)\n",
            "Epoch 007/020 | Loss 0.0136 | Win/lose count 6.5/7.0 (-0.5)\n",
            "Epoch 008/020 | Loss 0.0062 | Win/lose count 2.5/1.0 (1.5)\n",
            "Epoch 009/020 | Loss 0.0066 | Win/lose count 6.0/0 (6.0)\n",
            "Epoch 010/020 | Loss 0.0065 | Win/lose count 5.0/2.0 (3.0)\n",
            "Epoch 011/020 | Loss 0.0085 | Win/lose count 7.5/6.0 (1.5)\n",
            "Epoch 012/020 | Loss 0.0059 | Win/lose count 4.0/1.0 (3.0)\n",
            "Epoch 013/020 | Loss 0.0070 | Win/lose count 2.0/4.0 (-2.0)\n",
            "Epoch 014/020 | Loss 0.0066 | Win/lose count 4.5/1.0 (3.5)\n",
            "Epoch 015/020 | Loss 0.0081 | Win/lose count 5.5/8.0 (-2.5)\n",
            "Epoch 016/020 | Loss 0.0087 | Win/lose count 4.0/6.0 (-2.0)\n",
            "Epoch 017/020 | Loss 0.0070 | Win/lose count 5.5/2.0 (3.5)\n",
            "Epoch 018/020 | Loss 0.0083 | Win/lose count 4.5/2.0 (2.5)\n",
            "Epoch 019/020 | Loss 0.0072 | Win/lose count 11.5/4.0 (7.5)\n"
          ],
          "name": "stdout"
        },
        {
          "output_type": "execute_result",
          "data": {
            "text/html": [
              "<video alt=\"test\" controls>\n",
              "                <source src=\"data:video/mp4;base64,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\" type=\"video/mp4\" />\n",
              "             </video>"
            ],
            "text/plain": [
              "<IPython.core.display.HTML object>"
            ]
          },
          "metadata": {
            "tags": []
          },
          "execution_count": 20
        }
      ]
    },
    {
      "cell_type": "code",
      "metadata": {
        "id": "M2X5Jiak5ka6",
        "colab_type": "code",
        "colab": {
          "base_uri": "https://localhost:8080/",
          "height": 284
        },
        "outputId": "22590193-ac7d-4214-a932-6a175dad903d"
      },
      "source": [
        "plt.plot(scores)"
      ],
      "execution_count": 21,
      "outputs": [
        {
          "output_type": "execute_result",
          "data": {
            "text/plain": [
              "[<matplotlib.lines.Line2D at 0x7f8c7bf079b0>]"
            ]
          },
          "metadata": {
            "tags": []
          },
          "execution_count": 21
        },
        {
          "output_type": "display_data",
          "data": {
            "image/png": "[encoded data removed]",
            "text/plain": [
              "<Figure size 432x288 with 1 Axes>"
            ]
          },
          "metadata": {
            "tags": []
          }
        }
      ]
    },
    {
      "cell_type": "markdown",
      "metadata": {
        "id": "YGUgAvaK8avT",
        "colab_type": "text"
      },
      "source": [
        "***\n",
        "***\n",
        "__Question 9__ Test both algorithms and compare their performances. Which issue(s) do you observe? Observe also different behaviors by changing the temperature."
      ]
    },
    {
      "cell_type": "code",
      "metadata": {
        "id": "7AxU3O8Z8avV",
        "colab_type": "code",
        "outputId": "935d9fe5-5b5d-420c-a056-0b7631f66d0a",
        "colab": {
          "base_uri": "https://localhost:8080/",
          "height": 1000
        }
      },
      "source": [
        "env = Environment(grid_size=size, max_time=T,temperature=0.5)\n",
        "agent_cnn = DQN_CNN(size, lr=lr, epsilon = 0.1, memory_size=mem_size, batch_size=b_size)\n",
        "agent_cnn.load(name_weights='cnn_trainmodel.h5',name_model='cnn_trainmodel.json')\n",
        "\n",
        "agent_fc = DQN_FC(size, lr=lr, epsilon = 0.1, memory_size=mem_size, batch_size=b_size)\n",
        "agent_cnn.load(name_weights='fc_trainmodel.h5',name_model='fc_trainmodel.json')\n",
        "print('Test of the CNN')\n",
        "cnn_test_scores = test(agent_cnn,env,epochs_test,prefix='cnn_test')\n",
        "print('Test of the FC')\n",
        "fc_test_scores = test(agent_fc,env,epochs_test,prefix='fc_test')"
      ],
      "execution_count": 22,
      "outputs": [
        {
          "output_type": "stream",
          "text": [
            "Test of the CNN\n",
            "Win/lose count 0.5/0. Average score (0.5)\n",
            "Win/lose count 1.0/0. Average score (0.75)\n",
            "Win/lose count 0.5/0. Average score (0.6666666666666666)\n",
            "Win/lose count 0.5/0. Average score (0.625)\n",
            "Win/lose count 0.5/0. Average score (0.6)\n",
            "Win/lose count 0/0. Average score (0.5)\n",
            "Win/lose count 1.5/0. Average score (0.6428571428571429)\n",
            "Win/lose count 0/0. Average score (0.5625)\n",
            "Win/lose count 5.5/1.0. Average score (1.0)\n",
            "Win/lose count 0.5/0. Average score (0.95)\n",
            "Win/lose count 0.5/0. Average score (0.9090909090909091)\n",
            "Win/lose count 1.5/0. Average score (0.9583333333333334)\n",
            "Win/lose count 0.5/0. Average score (0.9230769230769231)\n",
            "Win/lose count 2.0/0. Average score (1.0)\n",
            "Win/lose count 1.0/0. Average score (1.0)\n",
            "Win/lose count 1.0/0. Average score (1.0)\n",
            "Win/lose count 1.0/1.0. Average score (0.9411764705882353)\n",
            "Win/lose count 0/0. Average score (0.8888888888888888)\n",
            "Win/lose count 2.5/0. Average score (0.9736842105263158)\n",
            "Win/lose count 2.5/0. Average score (1.05)\n",
            "Win/lose count 3.0/0. Average score (1.1428571428571428)\n",
            "Win/lose count 0.5/0. Average score (1.1136363636363635)\n",
            "Win/lose count 4.5/0. Average score (1.2608695652173914)\n",
            "Win/lose count 1.0/0. Average score (1.25)\n",
            "Win/lose count 1.5/0. Average score (1.26)\n",
            "Win/lose count 1.0/0. Average score (1.25)\n",
            "Win/lose count 1.0/0. Average score (1.2407407407407407)\n",
            "Win/lose count 1.0/0. Average score (1.2321428571428572)\n",
            "Win/lose count 4.0/0. Average score (1.3275862068965518)\n",
            "Win/lose count 0/1.0. Average score (1.25)\n",
            "Win/lose count 1.0/0. Average score (1.2419354838709677)\n",
            "Win/lose count 0.5/0. Average score (1.21875)\n",
            "Win/lose count 4.0/0. Average score (1.303030303030303)\n",
            "Win/lose count 0.5/0. Average score (1.2794117647058822)\n",
            "Win/lose count 0.5/0. Average score (1.2571428571428571)\n",
            "Win/lose count 0.5/0. Average score (1.2361111111111112)\n",
            "Win/lose count 0.5/0. Average score (1.2162162162162162)\n",
            "Win/lose count 0.5/0. Average score (1.1973684210526316)\n",
            "Win/lose count 2.5/1.0. Average score (1.205128205128205)\n",
            "Win/lose count 1.0/1.0. Average score (1.175)\n",
            "Final score: 1.175\n",
            "Test of the FC\n",
            "Win/lose count 0.5/0. Average score (0.5)\n",
            "Win/lose count 0/2.0. Average score (-0.75)\n",
            "Win/lose count 0.5/1.0. Average score (-0.6666666666666666)\n",
            "Win/lose count 1.0/1.0. Average score (-0.5)\n",
            "Win/lose count 1.5/0. Average score (-0.1)\n",
            "Win/lose count 0.5/0. Average score (0.0)\n",
            "Win/lose count 0/1.0. Average score (-0.14285714285714285)\n",
            "Win/lose count 1.0/2.0. Average score (-0.25)\n",
            "Win/lose count 1.0/1.0. Average score (-0.2222222222222222)\n",
            "Win/lose count 1.0/2.0. Average score (-0.3)\n",
            "Win/lose count 2.0/2.0. Average score (-0.2727272727272727)\n",
            "Win/lose count 0.5/0. Average score (-0.20833333333333334)\n",
            "Win/lose count 0.5/2.0. Average score (-0.3076923076923077)\n",
            "Win/lose count 0/1.0. Average score (-0.35714285714285715)\n",
            "Win/lose count 1.5/6.0. Average score (-0.6333333333333333)\n",
            "Win/lose count 0.5/0. Average score (-0.5625)\n",
            "Win/lose count 1.0/1.0. Average score (-0.5294117647058824)\n",
            "Win/lose count 2.0/7.0. Average score (-0.7777777777777778)\n",
            "Win/lose count 2.0/3.0. Average score (-0.7894736842105263)\n",
            "Win/lose count 2.0/4.0. Average score (-0.85)\n",
            "Win/lose count 0/1.0. Average score (-0.8571428571428571)\n",
            "Win/lose count 1.5/2.0. Average score (-0.8409090909090909)\n",
            "Win/lose count 0.5/2.0. Average score (-0.8695652173913043)\n",
            "Win/lose count 1.5/3.0. Average score (-0.8958333333333334)\n",
            "Win/lose count 1.5/1.0. Average score (-0.84)\n",
            "Win/lose count 0/1.0. Average score (-0.8461538461538461)\n",
            "Win/lose count 0.5/1.0. Average score (-0.8333333333333334)\n",
            "Win/lose count 0.5/2.0. Average score (-0.8571428571428571)\n",
            "Win/lose count 0.5/0. Average score (-0.8103448275862069)\n",
            "Win/lose count 0.5/0. Average score (-0.7666666666666667)\n",
            "Win/lose count 1.0/0. Average score (-0.7096774193548387)\n",
            "Win/lose count 1.0/1.0. Average score (-0.6875)\n",
            "Win/lose count 1.0/3.0. Average score (-0.7272727272727273)\n",
            "Win/lose count 1.5/4.0. Average score (-0.7794117647058824)\n",
            "Win/lose count 0.5/1.0. Average score (-0.7714285714285715)\n",
            "Win/lose count 1.0/4.0. Average score (-0.8333333333333334)\n",
            "Win/lose count 0/2.0. Average score (-0.8648648648648649)\n",
            "Win/lose count 1.5/3.0. Average score (-0.881578947368421)\n",
            "Win/lose count 0/3.0. Average score (-0.9358974358974359)\n",
            "Win/lose count 0.5/1.0. Average score (-0.925)\n",
            "Final score: -0.925\n"
          ],
          "name": "stdout"
        }
      ]
    },
    {
      "cell_type": "code",
      "metadata": {
        "id": "c6ICDspf1u9M",
        "colab_type": "code",
        "colab": {
          "base_uri": "https://localhost:8080/",
          "height": 282
        },
        "outputId": "bc1748e6-847b-4d87-e16c-8c6ea1cce5c0"
      },
      "source": [
        "plt.plot(cnn_test_scores, label='cnn')\n",
        "plt.plot(fc_test_scores, label='fc')\n",
        "plt.legend()"
      ],
      "execution_count": 23,
      "outputs": [
        {
          "output_type": "execute_result",
          "data": {
            "text/plain": [
              "<matplotlib.legend.Legend at 0x7f8c7bf59978>"
            ]
          },
          "metadata": {
            "tags": []
          },
          "execution_count": 23
        },
        {
          "output_type": "display_data",
          "data": {
            "image/png": "[encoded data removed]",
            "text/plain": [
              "<Figure size 432x288 with 1 Axes>"
            ]
          },
          "metadata": {
            "tags": []
          }
        }
      ]
    },
    {
      "cell_type": "code",
      "metadata": {
        "id": "bViT1Y098ave",
        "colab_type": "code",
        "outputId": "80d60641-79de-4349-a646-2660ced1ae1b",
        "colab": {
          "base_uri": "https://localhost:8080/",
          "height": 293
        }
      },
      "source": [
        "HTML(display_videos('cnn_test10.mp4'))"
      ],
      "execution_count": 24,
      "outputs": [
        {
          "output_type": "execute_result",
          "data": {
            "text/html": [
              "<video alt=\"test\" controls>\n",
              "                <source src=\"data:video/mp4;base64,AAAAIGZ0eXBpc29tAAACAGlzb21pc28yYXZjMW1wNDEAAAAIZnJlZQAAFqdtZGF0AAACrQYF//+p3EXpvebZSLeWLNgg2SPu73gyNjQgLSBjb3JlIDE1MiByMjg1NCBlOWE1OTAzIC0gSC4yNjQvTVBFRy00IEFWQyBjb2RlYyAtIENvcHlsZWZ0IDIwMDMtMjAxNyAtIGh0dHA6Ly93d3cudmlkZW9sYW4ub3JnL3gyNjQuaHRtbCAtIG9wdGlvbnM6IGNhYmFjPTEgcmVmPTMgZGVibG9jaz0xOjA6MCBhbmFseXNlPTB4MToweDExMSBtZT1oZXggc3VibWU9NyBwc3k9MSBwc3lfcmQ9MS4wMDowLjAwIG1peGVkX3JlZj0xIG1lX3JhbmdlPTE2IGNocm9tYV9tZT0xIHRyZWxsaXM9MSA4eDhkY3Q9MCBjcW09MCBkZWFkem9uZT0yMSwxMSBmYXN0X3Bza2lwPTEgY2hyb21hX3FwX29mZnNldD00IHRocmVhZHM9MyBsb29rYWhlYWRfdGhyZWFkcz0xIHNsaWNlZF90aHJlYWRzPTAgbnI9MCBkZWNpbWF0ZT0xIGludGVybGFjZWQ9MCBibHVyYXlfY29tcGF0PTAgY29uc3RyYWluZWRfaW50cmE9MCBiZnJhbWVzPTMgYl9weXJhbWlkPTIgYl9hZGFwdD0xIGJfYmlhcz0wIGRpcmVjdD0xIHdlaWdodGI9MSBvcGVuX2dvcD0wIHdlaWdodHA9MiBrZXlpbnQ9MjUwIGtleWludF9taW49MjUgc2NlbmVjdXQ9NDAgaW50cmFfcmVmcmVzaD0wIHJjX2xvb2thaGVhZD00MCByYz1jcmYgbWJ0cmVlPTEgY3JmPTIzLjAgcWNvbXA9MC42MCBxcG1pbj0wIHFwbWF4PTY5IHFwc3RlcD00IGlwX3JhdGlvPTEuNDAgYXE9MToxLjAwAIAAAAL6ZYiEADf//vaH+BTZWBP+Wb/9DX/cj9uPrP1xYyEE31qvIejAGS+1H+b/rFFs6Z6UB/fgCJQAc24ZwpIoZ/8CmWxwvgUK/HE+UwozlT/KDbJHQMPKO2F9ljZpjE9bfHAFDt3E3gWokd6dUuMZxCUiwz9wm7tLJ+jjoMlCiClshP3MltEXwCaDoYdAiIQrz/xszuk02xqMi4SJNBNZGqW1XSgJHMlvAaXb6/5HulQFeyhaCKqXbB/5rQzwQWpZAowCSAQHwDAzBGk5xGFjOyTlo6aNd9+KTo9Rt3wWVkUb1bFcRMBzIRXjjqv27FANtilfv3H3Fmxpv9MBm1lCQS0HV9nZbbfqmmHoLg5izLaecz5/5c1yqX5QztehJA79sFWgdsyCRyfT4NfwJvIItSaMtUwldJ50hVRxDW97mrmf/cDhlpzsCH0uhZRgnTRYngqik4H19K9LuJGUJXFHaYK8wg2ugZUqu6m7pAAAoOWRIvM7J8ClVTfNMyS/fRDaf9j6QeBDB+gUYDDJXv3kXmp7DjWLmSuifaMzQRzSFArlKXRZIYQxYpCBiILID1WsBqUHpD0Psygb+GA3PszK/JvjR0ZXomee5PeZJUUvRAsYPXW855/outB1VSZhENWrfhhGB4FtQbZgwgsWDJPB9l4mBjBqIszjJNGBZfVQmbJftBgRfdXm0W4uuoFACOa4q9KNv/MxPxP6RemZgfR0HB7TACs7OMQYpkYM9iQctD2/JSR+FlMka+qChlvkBZXumThIl1+5PGFXzI1lqrnkofrr5YxYknRWETYJEiVGJSWk4AX7FWHcnt+yBpq4POAyiN+aFIVqUnCnTI+joldS3fPnafH6hA01Q2FsYwglwh4YDFA/NHEuYTMYJdmSzWOKAaYXQ5iS37t/rdx47QSIrz4oO2VOVgh/1nQuoCDn5OdRjmnkKKh/NyTk87nzYKkMSMaJIzUXYCO4zQqqGFlIeA5su5sCc3G3O02j8BAr4goGYgTHsJK7CJSQAG9BAAAAFUGaIWxDf/6nhAAFY4FmJ/OrXJrBGAAAABtBmkQ8IZMphDf//qeEAAVkE/4n8u8Amv6thOEAAAAQQZ5ialPCvwAEV2KwSErhZgAAAA4BnoNqQr8ABFdkxXAsmQAAABJBmoZJqEFomUwU8N/+p4QAAScAAAAPAZ6lakK/AARYNA8mCZmBAAAAEkGaqEnhClJlMFLDf/6nhAABJwAAABEBnsdqQr8ABFXmoFYrgsUDMwAAABJBmspJ4Q6JlMFEw3/+p4QAAScAAAARAZ7pakK/AARV5qBWK4LFAzMAAAASQZrsSeEPJlMFPDf//qeEAAEnAAAAEQGfC2pCvwAEVeagViuCxQMzAAAAEkGbDknhDyZTBTw3//6nhAABJwAAABEBny1qQr8ABFXmoFYrgsUDMwAAABJBmzBJ4Q8mUwU8N//+p4QAAScAAAARAZ9PakK/AARV5qBWK4LFAzMAAAASQZtSSeEPJlMFPDf//qeEAAEnAAAAEQGfcWpCvwAEVeagViuCxQMzAAAAEkGbdEnhDyZTBTw3//6nhAABJwAAABEBn5NqQr8ABFXmoFYrgsUDMwAAABJBm5ZJ4Q8mUwU8N//+p4QAAScAAAARAZ+1akK/AARV5qBWK4LFAzMAAAASQZu4SeEPJlMFPDf//qeEAAEnAAAAEQGf12pCvwAEVeagViuCxQMzAAAAEkGb2knhDyZTBTw3//6nhAABJwAAABEBn/lqQr8ABFXmoFYrgsUDMwAAABJBm/xJ4Q8mUwU8N//+p4QAAScAAAARAZ4bakK/AARV5qBWK4LFAzMAAAASQZoeSeEPJlMFPDf//qeEAAEnAAAAEQGePWpCvwAEVeagViuCxQMzAAAAEkGaIEnhDyZTBTw3//6nhAABJwAAABEBnl9qQr8ABFXmoFYrgsUDMwAAABJBmkJJ4Q8mUwU8N//+p4QAAScAAAARAZ5hakK/AARV5qBWK4LFAzMAAAASQZpkSeEPJlMFPDf//qeEAAEnAAAAEQGeg2pCvwAEVeagViuCxQMzAAAAEkGahknhDyZTBTw3//6nhAABJwAAABEBnqVqQr8ABFXmoFYrgsUDMwAAABJBmqhJ4Q8mUwU8N//+p4QAAScAAAARAZ7HakK/AARV5qBWK4LFAzMAAAASQZrKSeEPJlMFPDf//qeEAAEnAAAAEQGe6WpCvwAEVeagViuCxQMzAAAAEkGa7EnhDyZTBTw3//6nhAABJwAAABEBnwtqQr8ABFXmoFYrgsUDMwAAABJBmw5J4Q8mUwU8N//+p4QAAScAAAARAZ8takK/AARV5qBWK4LFAzMAAAASQZswSeEPJlMFPDf//qeEAAEnAAAAEQGfT2pCvwAEVeagViuCxQMzAAAAEkGbUknhDyZTBTw3//6nhAABJwAAABEBn3FqQr8ABFXmoFYrgsUDMwAAABJBm3RJ4Q8mUwU8N//+p4QAAScAAAARAZ+TakK/AARV5qBWK4LFAzMAAAASQZuWSeEPJlMFPDf//qeEAAEnAAAAEQGftWpCvwAEVeagViuCxQMzAAAAEkGbuEnhDyZTBTw3//6nhAABJwAAABEBn9dqQr8ABFXmoFYrgsUDMwAAABJBm9pJ4Q8mUwU8N//+p4QAAScAAAARAZ/5akK/AARV5qBWK4LFAzMAAAASQZv8SeEPJlMFPDf//qeEAAEnAAAAEQGeG2pCvwAEVeagViuCxQMzAAAAEkGaHknhDyZTBTw3//6nhAABJwAAABEBnj1qQr8ABFXmoFYrgsUDMwAAABJBmiBJ4Q8mUwU8N//+p4QAAScAAAARAZ5fakK/AARV5qBWK4LFAzMAAAASQZpCSeEPJlMFPDf//qeEAAEnAAAAEQGeYWpCvwAEVeagViuCxQMzAAAAEkGaZEnhDyZTBTw3//6nhAABJwAAABEBnoNqQr8ABFXmoFYrgsUDMwAAABJBmoZJ4Q8mUwU8N//+p4QAAScAAAARAZ6lakK/AARV5qBWK4LFAzMAAAASQZqoSeEPJlMFPDf//qeEAAEnAAAAEQGex2pCvwAEVeagViuCxQMzAAAAEkGayknhDyZTBTw3//6nhAABJwAAABEBnulqQr8ABFXmoFYrgsUDMwAAABJBmuxJ4Q8mUwU8N//+p4QAAScAAAARAZ8LakK/AARV5qBWK4LFAzMAAAASQZsOSeEPJlMFPDf//qeEAAEnAAAAEQGfLWpCvwAEVeagViuCxQMzAAAAEkGbMEnhDyZTBTw3//6nhAABJwAAABEBn09qQr8ABFXmoFYrgsUDMwAAABJBm1JJ4Q8mUwU8N//+p4QAAScAAAARAZ9xakK/AARV5qBWK4LFAzMAAAASQZt0SeEPJlMFPDf//qeEAAEnAAAAEQGfk2pCvwAEVeagViuCxQMzAAAAEkGblknhDyZTBTw3//6nhAABJwAAABEBn7VqQr8ABFXmoFYrgsUDMwAAABJBm7hJ4Q8mUwU8N//+p4QAAScAAAARAZ/XakK/AARV5qBWK4LFAzMAAAASQZvaSeEPJlMFPDf//qeEAAEnAAAAEQGf+WpCvwAEVeagViuCxQMzAAAAEkGb/EnhDyZTBTw3//6nhAABJwAAABEBnhtqQr8ABFXmoFYrgsUDMwAAABJBmh5J4Q8mUwU8N//+p4QAAScAAAARAZ49akK/AARV5qBWK4LFAzMAAAASQZogSeEPJlMFPDf//qeEAAEnAAAAEQGeX2pCvwAEVeagViuCxQMzAAAAEkGaQknhDyZTBTw3//6nhAABJwAAABEBnmFqQr8ABFXmoFYrgsUDMwAAABJBmmRJ4Q8mUwU8N//+p4QAAScAAAARAZ6DakK/AARV5qBWK4LFAzMAAAASQZqGSeEPJlMFPDf//qeEAAEnAAAAEQGepWpCvwAEVeagViuCxQMzAAAAEkGaqEnhDyZTBTw3//6nhAABJwAAABEBnsdqQr8ABFXmoFYrgsUDMwAAABJBmspJ4Q8mUwU8N//+p4QAAScAAAARAZ7pakK/AARV5qBWK4LFAzMAAAASQZrsSeEPJlMFPDf//qeEAAEnAAAAEQGfC2pCvwAEVeagViuCxQMzAAAAEkGbDknhDyZTBTw3//6nhAABJwAAABEBny1qQr8ABFXmoFYrgsUDMwAAABJBmzBJ4Q8mUwU8N//+p4QAAScAAAARAZ9PakK/AARV5qBWK4LFAzMAAAASQZtSSeEPJlMFPDf//qeEAAEnAAAAEQGfcWpCvwAEVeagViuCxQMzAAAAEkGbdEnhDyZTBTw3//6nhAABJwAAABEBn5NqQr8ABFXmoFYrgsUDMwAAABJBm5ZJ4Q8mUwU8N//+p4QAAScAAAARAZ+1akK/AARV5qBWK4LFAzMAAAASQZu4SeEPJlMFPDf//qeEAAEnAAAAEQGf12pCvwAEVeagViuCxQMzAAAAEkGb2knhDyZTBTw3//6nhAABJwAAABEBn/lqQr8ABFXmoFYrgsUDMwAAABJBm/xJ4Q8mUwU8N//+p4QAAScAAAARAZ4bakK/AARV5qBWK4LFAzMAAAASQZoeSeEPJlMFPDf//qeEAAEnAAAAEQGePWpCvwAEVeagViuCxQMzAAAAEkGaIEnhDyZTBTw3//6nhAABJwAAABEBnl9qQr8ABFXmoFYrgsUDMwAAABJBmkJJ4Q8mUwU8N//+p4QAAScAAAARAZ5hakK/AARV5qBWK4LFAzMAAAASQZpkSeEPJlMFPDf//qeEAAEnAAAAEQGeg2pCvwAEVeagViuCxQMzAAAAEkGahknhDyZTBTw3//6nhAABJwAAABEBnqVqQr8ABFXmoFYrgsUDMwAAABJBmqhJ4Q8mUwU8N//+p4QAAScAAAARAZ7HakK/AARV5qBWK4LFAzMAAAASQZrKSeEPJlMFPDf//qeEAAEnAAAAEQGe6WpCvwAEVeagViuCxQMzAAAAEkGa7EnhDyZTBTw3//6nhAABJwAAABEBnwtqQr8ABFXmoFYrgsUDMwAAABJBmw5J4Q8mUwU8N//+p4QAAScAAAARAZ8takK/AARV5qBWK4LFAzMAAAASQZswSeEPJlMFPDf//qeEAAEnAAAAEQGfT2pCvwAEVeagViuCxQMzAAAAEkGbUknhDyZTBTw3//6nhAABJwAAABEBn3FqQr8ABFXmoFYrgsUDMwAAABJBm3RJ4Q8mUwU8N//+p4QAAScAAAARAZ+TakK/AARV5qBWK4LFAzMAAAASQZuWSeEPJlMFPDf//qeEAAEnAAAAEQGftWpCvwAEVeagViuCxQMzAAAAEkGbuEnhDyZTBTw3//6nhAABJwAAABEBn9dqQr8ABFXmoFYrgsUDMwAAABJBm9pJ4Q8mUwU8N//+p4QAAScAAAARAZ/5akK/AARV5qBWK4LFAzMAAAASQZv8SeEPJlMFPDf//qeEAAEnAAAAEQGeG2pCvwAEVeagViuCxQMzAAAAEkGaHknhDyZTBTw3//6nhAABJwAAABEBnj1qQr8ABFXmoFYrgsUDMwAAABJBmiBJ4Q8mUwU8N//+p4QAAScAAAARAZ5fakK/AARV5qBWK4LFAzMAAAASQZpCSeEPJlMFPDf//qeEAAEnAAAAEQGeYWpCvwAEVeagViuCxQMzAAAAEkGaZEnhDyZTBTw3//6nhAABJwAAABEBnoNqQr8ABFXmoFYrgsUDMwAAABJBmoZJ4Q8mUwU8N//+p4QAAScAAAARAZ6lakK/AARV5qBWK4LFAzMAAAASQZqoSeEPJlMFPDf//qeEAAEnAAAAEQGex2pCvwAEVeagViuCxQMzAAAAEkGayknhDyZTBTw3//6nhAABJwAAABEBnulqQr8ABFXmoFYrgsUDMwAAABJBmuxJ4Q8mUwU8N//+p4QAAScAAAARAZ8LakK/AARV5qBWK4LFAzMAAAASQZsOSeEPJlMFPDf//qeEAAEnAAAAEQGfLWpCvwAEVeagViuCxQMzAAAAEkGbMEnhDyZTBTw3//6nhAABJwAAABEBn09qQr8ABFXmoFYrgsUDMwAAABJBm1JJ4Q8mUwU8N//+p4QAAScAAAARAZ9xakK/AARV5qBWK4LFAzMAAAASQZt0SeEPJlMFPDf//qeEAAEnAAAAEQGfk2pCvwAEVeagViuCxQMzAAAAEkGblknhDyZTBTw3//6nhAABJwAAABEBn7VqQr8ABFXmoFYrgsUDMwAAABJBm7hJ4Q8mUwU8N//+p4QAAScAAAARAZ/XakK/AARV5qBWK4LFAzMAAAASQZvaSeEPJlMFPDf//qeEAAEnAAAAEQGf+WpCvwAEVeagViuCxQMzAAAAEkGb/EnhDyZTBTw3//6nhAABJwAAABEBnhtqQr8ABFXmoFYrgsUDMwAAABJBmh5J4Q8mUwU8N//+p4QAAScAAAARAZ49akK/AARV5qBWK4LFAzMAAAASQZogSeEPJlMFPDf//qeEAAEnAAAAEQGeX2pCvwAEVeagViuCxQMzAAAAEkGaQknhDyZTBTw3//6nhAABJwAAABEBnmFqQr8ABFXmoFYrgsUDMwAAABJBmmRJ4Q8mUwU8M//+nhAABHwAAAARAZ6DakK/AARV5qBWK4LFAzMAAAASQZqGSeEPJlMFPDP//p4QAAR9AAAAEQGepWpCvwAEVeagViuCxQMzAAAAEkGaqEnhDyZTBTwv//6MsAAEjQAAABEBnsdqQr8ABFXmoFYrgsUDMwAAABpBmslL4QhDyRGCCgH8gH9h4AhX//44QAARcAAADHhtb292AAAAbG12aGQAAAAAAAAAAAAAAAAAAAPoAAAfkAABAAABAAAAAAAAAAAAAAAAAQAAAAAAAAAAAAAAAAAAAAEAAAAAAAAAAAAAAAAAAEAAAAAAAAAAAAAAAAAAAAAAAAAAAAAAAAAAAAAAAAACAAALonRyYWsAAABcdGtoZAAAAAMAAAAAAAAAAAAAAAEAAAAAAAAfkAAAAAAAAAAAAAAAAAAAAAAAAQAAAAAAAAAAAAAAAAAAAAEAAAAAAAAAAAAAAAAAAEAAAAABEAAAARAAAAAAACRlZHRzAAAAHGVsc3QAAAAAAAAAAQAAH5AAAAQAAAEAAAAACxptZGlhAAAAIG1kaGQAAAAAAAAAAAAAAAAAADIAAAGUAFXEAAAAAAAtaGRscgAAAAAAAAAAdmlkZQAAAAAAAAAAAAAAAFZpZGVvSGFuZGxlcgAAAArFbWluZgAAABR2bWhkAAAAAQAAAAAAAAAAAAAAJGRpbmYAAAAcZHJlZgAAAAAAAAABAAAADHVybCAAAAABAAAKhXN0YmwAAACVc3RzZAAAAAAAAAABAAAAhWF2YzEAAAAAAAAAAQAAAAAAAAAAAAAAAAAAAAABEAEQAEgAAABIAAAAAAAAAAEAAAAAAAAAAAAAAAAAAAAAAAAAAAAAAAAAAAAAAAAAAAAY//8AAAAvYXZjQwH0AA3/4QAXZ/QADZGbKCIR0IAAAAMAgAAAGQeKFMsBAAVo6+PESAAAABhzdHRzAAAAAAAAAAEAAADKAAACAAAAABRzdHNzAAAAAAAAAAEAAAABAAAGUGN0dHMAAAAAAAAAyAAAAAIAAAQAAAAAAQAACAAAAAACAAACAAAAAAEAAAYAAAAAAQAAAgAAAAABAAAGAAAAAAEAAAIAAAAAAQAABgAAAAABAAACAAAAAAEAAAYAAAAAAQAAAgAAAAABAAAGAAAAAAEAAAIAAAAAAQAABgAAAAABAAACAAAAAAEAAAYAAAAAAQAAAgAAAAABAAAGAAAAAAEAAAIAAAAAAQAABgAAAAABAAACAAAAAAEAAAYAAAAAAQAAAgAAAAABAAAGAAAAAAEAAAIAAAAAAQAABgAAAAABAAACAAAAAAEAAAYAAAAAAQAAAgAAAAABAAAGAAAAAAEAAAIAAAAAAQAABgAAAAABAAACAAAAAAEAAAYAAAAAAQAAAgAAAAABAAAGAAAAAAEAAAIAAAAAAQAABgAAAAABAAACAAAAAAEAAAYAAAAAAQAAAgAAAAABAAAGAAAAAAEAAAIAAAAAAQAABgAAAAABAAACAAAAAAEAAAYAAAAAAQAAAgAAAAABAAAGAAAAAAEAAAIAAAAAAQAABgAAAAABAAACAAAAAAEAAAYAAAAAAQAAAgAAAAABAAAGAAAAAAEAAAIAAAAAAQAABgAAAAABAAACAAAAAAEAAAYAAAAAAQAAAgAAAAABAAAGAAAAAAEAAAIAAAAAAQAABgAAAAABAAACAAAAAAEAAAYAAAAAAQAAAgAAAAABAAAGAAAAAAEAAAIAAAAAAQAABgAAAAABAAACAAAAAAEAAAYAAAAAAQAAAgAAAAABAAAGAAAAAAEAAAIAAAAAAQAABgAAAAABAAACAAAAAAEAAAYAAAAAAQAAAgAAAAABAAAGAAAAAAEAAAIAAAAAAQAABgAAAAABAAACAAAAAAEAAAYAAAAAAQAAAgAAAAABAAAGAAAAAAEAAAIAAAAAAQAABgAAAAABAAACAAAAAAEAAAYAAAAAAQAAAgAAAAABAAAGAAAAAAEAAAIAAAAAAQAABgAAAAABAAACAAAAAAEAAAYAAAAAAQAAAgAAAAABAAAGAAAAAAEAAAIAAAAAAQAABgAAAAABAAACAAAAAAEAAAYAAAAAAQAAAgAAAAABAAAGAAAAAAEAAAIAAAAAAQAABgAAAAABAAACAAAAAAEAAAYAAAAAAQAAAgAAAAABAAAGAAAAAAEAAAIAAAAAAQAABgAAAAABAAACAAAAAAEAAAYAAAAAAQAAAgAAAAABAAAGAAAAAAEAAAIAAAAAAQAABgAAAAABAAACAAAAAAEAAAYAAAAAAQAAAgAAAAABAAAGAAAAAAEAAAIAAAAAAQAABgAAAAABAAACAAAAAAEAAAYAAAAAAQAAAgAAAAABAAAGAAAAAAEAAAIAAAAAAQAABgAAAAABAAACAAAAAAEAAAYAAAAAAQAAAgAAAAABAAAGAAAAAAEAAAIAAAAAAQAABgAAAAABAAACAAAAAAEAAAYAAAAAAQAAAgAAAAABAAAGAAAAAAEAAAIAAAAAAQAABgAAAAABAAACAAAAAAEAAAYAAAAAAQAAAgAAAAABAAAGAAAAAAEAAAIAAAAAAQAABgAAAAABAAACAAAAAAEAAAYAAAAAAQAAAgAAAAABAAAGAAAAAAEAAAIAAAAAAQAABgAAAAABAAACAAAAAAEAAAYAAAAAAQAAAgAAAAABAAAGAAAAAAEAAAIAAAAAAQAABgAAAAABAAACAAAAAAEAAAYAAAAAAQAAAgAAAAABAAAGAAAAAAEAAAIAAAAAAQAABgAAAAABAAACAAAAAAEAAAYAAAAAAQAAAgAAAAABAAAGAAAAAAEAAAIAAAAAAQAABgAAAAABAAACAAAAAAEAAAYAAAAAAQAAAgAAAAABAAAGAAAAAAEAAAIAAAAAAQAABgAAAAABAAACAAAAAAEAAAYAAAAAAQAAAgAAAAABAAAGAAAAAAEAAAIAAAAAAQAABgAAAAABAAACAAAAAAEAAAYAAAAAAQAAAgAAAAABAAAGAAAAAAEAAAIAAAAAAQAABgAAAAABAAACAAAAAAEAAAYAAAAAAQAAAgAAAAABAAAGAAAAAAEAAAIAAAAAAQAABgAAAAABAAACAAAAAAEAAAYAAAAAAQAAAgAAAAABAAAGAAAAAAEAAAIAAAAAAQAABAAAAAAcc3RzYwAAAAAAAAABAAAAAQAAAMoAAAABAAADPHN0c3oAAAAAAAAAAAAAAMoAAAWvAAAAGQAAAB8AAAAUAAAAEgAAABYAAAATAAAAFgAAABUAAAAWAAAAFQAAABYAAAAVAAAAFgAAABUAAAAWAAAAFQAAABYAAAAVAAAAFgAAABUAAAAWAAAAFQAAABYAAAAVAAAAFgAAABUAAAAWAAAAFQAAABYAAAAVAAAAFgAAABUAAAAWAAAAFQAAABYAAAAVAAAAFgAAABUAAAAWAAAAFQAAABYAAAAVAAAAFgAAABUAAAAWAAAAFQAAABYAAAAVAAAAFgAAABUAAAAWAAAAFQAAABYAAAAVAAAAFgAAABUAAAAWAAAAFQAAABYAAAAVAAAAFgAAABUAAAAWAAAAFQAAABYAAAAVAAAAFgAAABUAAAAWAAAAFQAAABYAAAAVAAAAFgAAABUAAAAWAAAAFQAAABYAAAAVAAAAFgAAABUAAAAWAAAAFQAAABYAAAAVAAAAFgAAABUAAAAWAAAAFQAAABYAAAAVAAAAFgAAABUAAAAWAAAAFQAAABYAAAAVAAAAFgAAABUAAAAWAAAAFQAAABYAAAAVAAAAFgAAABUAAAAWAAAAFQAAABYAAAAVAAAAFgAAABUAAAAWAAAAFQAAABYAAAAVAAAAFgAAABUAAAAWAAAAFQAAABYAAAAVAAAAFgAAABUAAAAWAAAAFQAAABYAAAAVAAAAFgAAABUAAAAWAAAAFQAAABYAAAAVAAAAFgAAABUAAAAWAAAAFQAAABYAAAAVAAAAFgAAABUAAAAWAAAAFQAAABYAAAAVAAAAFgAAABUAAAAWAAAAFQAAABYAAAAVAAAAFgAAABUAAAAWAAAAFQAAABYAAAAVAAAAFgAAABUAAAAWAAAAFQAAABYAAAAVAAAAFgAAABUAAAAWAAAAFQAAABYAAAAVAAAAFgAAABUAAAAWAAAAFQAAABYAAAAVAAAAFgAAABUAAAAWAAAAFQAAABYAAAAVAAAAFgAAABUAAAAWAAAAFQAAABYAAAAVAAAAFgAAABUAAAAWAAAAFQAAABYAAAAVAAAAFgAAABUAAAAWAAAAFQAAABYAAAAVAAAAFgAAABUAAAAeAAAAFHN0Y28AAAAAAAAAAQAAADAAAABidWR0YQAAAFptZXRhAAAAAAAAACFoZGxyAAAAAAAAAABtZGlyYXBwbAAAAAAAAAAAAAAAAC1pbHN0AAAAJal0b28AAAAdZGF0YQAAAAEAAAAATGF2ZjU3LjgzLjEwMA==\" type=\"video/mp4\" />\n",
              "             </video>"
            ],
            "text/plain": [
              "<IPython.core.display.HTML object>"
            ]
          },
          "metadata": {
            "tags": []
          },
          "execution_count": 24
        }
      ]
    },
    {
      "cell_type": "code",
      "metadata": {
        "id": "WRDJxnnf8avl",
        "colab_type": "code",
        "outputId": "1af3be1c-41b2-413e-a32d-fc151beb3384",
        "colab": {
          "base_uri": "https://localhost:8080/",
          "height": 293
        }
      },
      "source": [
        "HTML(display_videos('fc_test10.mp4'))"
      ],
      "execution_count": 25,
      "outputs": [
        {
          "output_type": "execute_result",
          "data": {
            "text/html": [
              "<video alt=\"test\" controls>\n",
              "                <source src=\"data:video/mp4;base64,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\" type=\"video/mp4\" />\n",
              "             </video>"
            ],
            "text/plain": [
              "<IPython.core.display.HTML object>"
            ]
          },
          "metadata": {
            "tags": []
          },
          "execution_count": 25
        }
      ]
    },
    {
      "cell_type": "markdown",
      "metadata": {
        "id": "eLnSEqka8avr",
        "colab_type": "text"
      },
      "source": [
        "The models are not trying to explore the map, the rather loop over cells already visited. When we increase the temperature, we can see the convolutionnal model tries to avoid negative cells while the fully connected one accepts negative cells."
      ]
    },
    {
      "cell_type": "markdown",
      "metadata": {
        "id": "MfqbZmvk8avt",
        "colab_type": "text"
      },
      "source": [
        "***\n",
        "\n",
        "The algorithm tends to not explore the map which can be an issue. We propose two ideas in order to encourage exploration:\n",
        "1. Incorporating a decreasing $\\epsilon$-greedy exploration. You can use the method ```set_epsilon```\n",
        "2. Append via the environment a new state that describes if a cell has been visited or not\n",
        "\n",
        "***\n",
        "__Question 10__ Design a new ```train_explore``` function and environment class ```EnvironmentExploring``` to tackle the issue of exploration.\n",
        "\n"
      ]
    },
    {
      "cell_type": "code",
      "metadata": {
        "id": "Vd55dg_e8avw",
        "colab_type": "code",
        "colab": {}
      },
      "source": [
        "def train_explore(agent,env,epoch,prefix=''):\n",
        "    pure_eps = 0.99 # epsilon for random strategy\n",
        "    \n",
        "    scores = []\n",
        "    losses = []\n",
        "\n",
        "    for e in range(epoch):\n",
        "        agent.set_epsilon(pure_eps/(1+0.5*e)) # usin a decay of \\epsilon_0/(1+e)\n",
        "        # At each epoch, we restart to a fresh game and get the initial state\n",
        "        state = env.reset()\n",
        "        # This assumes that the games will terminate\n",
        "        game_over = False\n",
        "\n",
        "        win, lose, loss, score = [0, 0, 0, 0]\n",
        "\n",
        "        while not game_over:\n",
        "            # The agent performs an action\n",
        "            action = agent.act(state)\n",
        "\n",
        "            # Apply an action to the environment, get the next state, the reward\n",
        "            # and if the games end\n",
        "            prev_state = state\n",
        "            state, reward, game_over = env.act(action, train=True)\n",
        "\n",
        "            # Update the counters\n",
        "            if reward > 0:\n",
        "                win = win + reward\n",
        "            if reward < 0:\n",
        "                lose = lose - reward\n",
        "\n",
        "            # Apply the reinforcement strategy\n",
        "            loss += agent.reinforce(prev_state, state,  action, reward, game_over)\n",
        "        \n",
        "        # Save as a mp4\n",
        "        if e % 10 == 0:\n",
        "            env.draw(prefix+str(e))\n",
        "\n",
        "        # Update stats\n",
        "        score = win-lose\n",
        "        scores.append(score)\n",
        "        losses.append(loss/env.t)\n",
        "\n",
        "        print(\"Epoch {:03d}/{:03d} | Loss {:.4f} | Win/lose count {}/{} ({})\"\n",
        "              .format(e, epoch, loss/env.t, win, lose, score))\n",
        "        agent.save(name_weights=prefix+'model.h5',name_model=prefix+'model.json')\n",
        "    return scores, losses\n",
        "        \n",
        "class EnvironmentExploring(Environment):\n",
        "    def __init__(self, grid_size=10, max_time=500, temperature=0.1):\n",
        "        super(EnvironmentExploring, self).__init__(grid_size, max_time, temperature)\n",
        "        self.malus_position = np.zeros((self.grid_size,self.grid_size))\n",
        "\n",
        "    def act(self, action, train=False):\n",
        "        \"\"\"This function returns the new state, reward and decides if the\n",
        "        game ends.\"\"\"\n",
        "\n",
        "        self.get_frame(int(self.t))\n",
        "\n",
        "        self.position[self.x, self.y] = 0 # remove previous position\n",
        "\n",
        "        if action == 0:\n",
        "            if self.x == self.grid_size-3:\n",
        "                self.x = self.x-1\n",
        "            else:\n",
        "                self.x = self.x + 1\n",
        "        elif action == 1:\n",
        "            if self.x == 2:\n",
        "                self.x = self.x+1\n",
        "            else:\n",
        "                self.x = self.x-1\n",
        "        elif action == 2:\n",
        "            if self.y == self.grid_size - 3:\n",
        "                self.y = self.y - 1\n",
        "            else:\n",
        "                self.y = self.y + 1\n",
        "        elif action == 3:\n",
        "            if self.y == 2:\n",
        "                self.y = self.y + 1\n",
        "            else:\n",
        "                self.y = self.y - 1\n",
        "        else:\n",
        "            RuntimeError('Error: action not recognized')\n",
        "\n",
        "        self.position[self.x, self.y] = 1 # set new position\n",
        "        self.t = self.t + 1\n",
        "        game_over = self.t > self.max_time\n",
        "\n",
        "        ## In Environment exploring:\n",
        "        # You will have to change n_state to 3 because you will use one more layer!\n",
        "        reward = 0\n",
        "        if train:\n",
        "            reward = -self.m_pos[self.x, self.y]\n",
        "        self.m_pos[self.x, self.y] += 0.2 # mark the cell as visited\n",
        "\n",
        "        reward = reward + self.board[self.x, self.y]\n",
        "        self.board[self.x, self.y] = 0\n",
        "        # 3 \"feature\" states instead of 2\n",
        "        state = np.concatenate((\n",
        "            self.board.reshape(self.grid_size, self.grid_size,1),\n",
        "            self.position.reshape(self.grid_size, self.grid_size,1),\n",
        "            self.m_pos.reshape(self.grid_size, self.grid_size,1)\n",
        "        ),axis=2)\n",
        "        \n",
        "        state = state[self.x-2:self.x+3,self.y-2:self.y+3,:]\n",
        "\n",
        "        return state, reward, game_over\n",
        "\n",
        "    def reset(self):\n",
        "        \"\"\"This function resets the game and returns the initial state\"\"\"\n",
        "\n",
        "        self.x = np.random.randint(3, self.grid_size-3)\n",
        "        self.y = np.random.randint(3, self.grid_size-3)\n",
        "\n",
        "\n",
        "        bonus = 0.5*np.random.binomial(1,self.temperature,size=self.grid_size**2)\n",
        "        bonus = bonus.reshape(self.grid_size,self.grid_size)\n",
        "\n",
        "        malus = -1.0*np.random.binomial(1,self.temperature,size=self.grid_size**2)\n",
        "        malus = malus.reshape(self.grid_size, self.grid_size)\n",
        "\n",
        "        self.to_draw = np.zeros((self.max_time+2, self.grid_size*self.scale, self.grid_size*self.scale, 3))\n",
        "\n",
        "\n",
        "        malus[bonus>0]=0\n",
        "\n",
        "        self.board = bonus + malus\n",
        "        self.board[0:2, :] = -1\n",
        "        self.board[:, 0:2] = -1\n",
        "        self.board[-2:, :] = -1\n",
        "        self.board[:, -2:] = -1\n",
        "        self.m_pos = np.zeros((self.grid_size,self.grid_size))\n",
        "\n",
        "        self.position = np.zeros((self.grid_size, self.grid_size))\n",
        "        self.position[0:2, :] = -1\n",
        "        self.position[:, 0:2] = -1\n",
        "        self.position[-2:, :] = -1\n",
        "        self.position[:, -2:] = -1\n",
        "        self.position[self.x, self.y] = 1\n",
        "\n",
        "        self.board[self.x,self.y] = 0\n",
        "        self.m_pos[self.x,self.y] = 0.2\n",
        "        self.t = 0\n",
        "\n",
        "        state = np.concatenate((\n",
        "            self.board.reshape(self.grid_size, self.grid_size,1),\n",
        "            self.position.reshape(self.grid_size, self.grid_size,1),\n",
        "            self.m_pos.reshape(self.grid_size, self.grid_size,1)\n",
        "        ), axis=2)\n",
        "\n",
        "        state = state[self.x - 2:self.x + 3, self.y - 2:self.y + 3, :]\n",
        "        return state"
      ],
      "execution_count": 0,
      "outputs": []
    },
    {
      "cell_type": "code",
      "metadata": {
        "id": "t4KJZMb28av5",
        "colab_type": "code",
        "outputId": "9e96e320-5c04-40d3-c5ba-dcaaeedfbafe",
        "colab": {
          "base_uri": "https://localhost:8080/",
          "height": 1000
        }
      },
      "source": [
        "# Training\n",
        "epochs_train = 50\n",
        "env = EnvironmentExploring(grid_size=size, max_time=T, temperature=0.3)\n",
        "agent_dqn = DQN_CNN(size, lr=lr, epsilon=0.1, memory_size=mem_size, batch_size=b_size, n_state=3)\n",
        "train_explore(agent_dqn, env, epochs_train, prefix='cnn_train_explore')\n",
        "HTML(display_videos('cnn_train_explore10.mp4'))"
      ],
      "execution_count": 27,
      "outputs": [
        {
          "output_type": "stream",
          "text": [
            "Epoch 000/050 | Loss 0.0420 | Win/lose count 7.0/88.60000000000005 (-81.60000000000005)\n",
            "Epoch 001/050 | Loss 0.0174 | Win/lose count 13.5/60.200000000000074 (-46.700000000000074)\n",
            "Epoch 002/050 | Loss 0.0268 | Win/lose count 14.0/66.00000000000007 (-52.00000000000007)\n",
            "Epoch 003/050 | Loss 0.0216 | Win/lose count 16.5/47.00000000000004 (-30.500000000000043)\n",
            "Epoch 004/050 | Loss 0.0299 | Win/lose count 15.5/62.00000000000003 (-46.50000000000003)\n",
            "Epoch 005/050 | Loss 0.0289 | Win/lose count 18.0/52.999999999999986 (-34.999999999999986)\n",
            "Epoch 006/050 | Loss 0.0292 | Win/lose count 20.0/38.79999999999998 (-18.799999999999983)\n",
            "Epoch 007/050 | Loss 0.0166 | Win/lose count 25.5/33.19999999999996 (-7.69999999999996)\n",
            "Epoch 008/050 | Loss 0.0147 | Win/lose count 19.5/27.999999999999964 (-8.499999999999964)\n",
            "Epoch 009/050 | Loss 0.0225 | Win/lose count 22.5/35.199999999999974 (-12.699999999999974)\n",
            "Epoch 010/050 | Loss 0.0212 | Win/lose count 24.0/30.999999999999957 (-6.999999999999957)\n",
            "Epoch 011/050 | Loss 0.0197 | Win/lose count 27.5/28.799999999999965 (-1.2999999999999652)\n",
            "Epoch 012/050 | Loss 0.0262 | Win/lose count 20.5/30.39999999999996 (-9.89999999999996)\n",
            "Epoch 013/050 | Loss 0.0290 | Win/lose count 22.0/32.599999999999966 (-10.599999999999966)\n",
            "Epoch 014/050 | Loss 0.0226 | Win/lose count 20.5/33.39999999999997 (-12.89999999999997)\n",
            "Epoch 015/050 | Loss 0.0239 | Win/lose count 22.5/32.59999999999997 (-10.099999999999973)\n",
            "Epoch 016/050 | Loss 0.0230 | Win/lose count 27.5/25.19999999999997 (2.300000000000029)\n",
            "Epoch 017/050 | Loss 0.0317 | Win/lose count 23.0/32.99999999999997 (-9.999999999999972)\n",
            "Epoch 018/050 | Loss 0.0247 | Win/lose count 21.0/31.799999999999972 (-10.799999999999972)\n",
            "Epoch 019/050 | Loss 0.0204 | Win/lose count 24.0/26.199999999999967 (-2.1999999999999673)\n",
            "Epoch 020/050 | Loss 0.0277 | Win/lose count 20.0/36.0 (-16.0)\n",
            "Epoch 021/050 | Loss 0.0228 | Win/lose count 18.0/29.199999999999964 (-11.199999999999964)\n",
            "Epoch 022/050 | Loss 0.0265 | Win/lose count 26.0/35.399999999999984 (-9.399999999999984)\n",
            "Epoch 023/050 | Loss 0.0290 | Win/lose count 25.5/33.799999999999976 (-8.299999999999976)\n",
            "Epoch 024/050 | Loss 0.0219 | Win/lose count 20.5/22.399999999999963 (-1.899999999999963)\n",
            "Epoch 025/050 | Loss 0.0201 | Win/lose count 25.5/22.79999999999997 (2.7000000000000313)\n",
            "Epoch 026/050 | Loss 0.0287 | Win/lose count 21.5/30.199999999999957 (-8.699999999999957)\n",
            "Epoch 027/050 | Loss 0.0242 | Win/lose count 22.0/38.599999999999994 (-16.599999999999994)\n",
            "Epoch 028/050 | Loss 0.0269 | Win/lose count 27.0/34.79999999999999 (-7.79999999999999)\n",
            "Epoch 029/050 | Loss 0.0322 | Win/lose count 24.5/28.599999999999973 (-4.099999999999973)\n",
            "Epoch 030/050 | Loss 0.0265 | Win/lose count 23.5/30.99999999999996 (-7.499999999999961)\n",
            "Epoch 031/050 | Loss 0.0348 | Win/lose count 24.0/35.999999999999986 (-11.999999999999986)\n",
            "Epoch 032/050 | Loss 0.0262 | Win/lose count 26.5/29.199999999999964 (-2.6999999999999638)\n",
            "Epoch 033/050 | Loss 0.0326 | Win/lose count 14.5/37.999999999999986 (-23.499999999999986)\n",
            "Epoch 034/050 | Loss 0.0283 | Win/lose count 18.5/35.39999999999997 (-16.89999999999997)\n",
            "Epoch 035/050 | Loss 0.0268 | Win/lose count 26.5/28.399999999999974 (-1.8999999999999737)\n",
            "Epoch 036/050 | Loss 0.0252 | Win/lose count 21.5/32.39999999999998 (-10.899999999999977)\n",
            "Epoch 037/050 | Loss 0.0323 | Win/lose count 21.5/33.79999999999996 (-12.299999999999962)\n",
            "Epoch 038/050 | Loss 0.0262 | Win/lose count 26.0/29.199999999999974 (-3.1999999999999744)\n",
            "Epoch 039/050 | Loss 0.0287 | Win/lose count 21.5/52.4 (-30.9)\n",
            "Epoch 040/050 | Loss 0.0293 | Win/lose count 22.5/47.200000000000024 (-24.700000000000024)\n",
            "Epoch 041/050 | Loss 0.0341 | Win/lose count 19.0/43.399999999999984 (-24.399999999999984)\n",
            "Epoch 042/050 | Loss 0.0288 | Win/lose count 20.0/52.6 (-32.6)\n",
            "Epoch 043/050 | Loss 0.0306 | Win/lose count 25.0/29.19999999999996 (-4.19999999999996)\n",
            "Epoch 044/050 | Loss 0.0324 | Win/lose count 24.0/30.999999999999964 (-6.9999999999999645)\n",
            "Epoch 045/050 | Loss 0.0309 | Win/lose count 25.0/32.599999999999966 (-7.599999999999966)\n",
            "Epoch 046/050 | Loss 0.0274 | Win/lose count 24.0/30.79999999999996 (-6.799999999999962)\n",
            "Epoch 047/050 | Loss 0.0347 | Win/lose count 24.0/32.39999999999996 (-8.399999999999963)\n",
            "Epoch 048/050 | Loss 0.0301 | Win/lose count 22.0/26.999999999999968 (-4.999999999999968)\n",
            "Epoch 049/050 | Loss 0.0373 | Win/lose count 22.5/29.399999999999977 (-6.899999999999977)\n"
          ],
          "name": "stdout"
        },
        {
          "output_type": "execute_result",
          "data": {
            "text/html": [
              "<video alt=\"test\" controls>\n",
              "                <source src=\"data:video/mp4;base64,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\" type=\"video/mp4\" />\n",
              "             </video>"
            ],
            "text/plain": [
              "<IPython.core.display.HTML object>"
            ]
          },
          "metadata": {
            "tags": []
          },
          "execution_count": 27
        }
      ]
    },
    {
      "cell_type": "code",
      "metadata": {
        "id": "iemCny_T8awB",
        "colab_type": "code",
        "outputId": "653ca7e0-bc1e-44a2-b112-b68ba7cedea3",
        "colab": {
          "base_uri": "https://localhost:8080/",
          "height": 1000
        }
      },
      "source": [
        "# Evaluation\n",
        "epochs_test=100\n",
        "scores = test(agent_dqn,env,epochs_test,prefix='cnn_test_explore')\n",
        "HTML(display_videos('cnn_test_explore30.mp4'))"
      ],
      "execution_count": 28,
      "outputs": [
        {
          "output_type": "stream",
          "text": [
            "Win/lose count 24.5/11.0. Average score (13.5)\n",
            "Win/lose count 18.5/4.0. Average score (14.0)\n",
            "Win/lose count 19.5/4.0. Average score (14.5)\n",
            "Win/lose count 23.5/5.0. Average score (15.5)\n",
            "Win/lose count 21.0/9.0. Average score (14.8)\n",
            "Win/lose count 25.0/8.0. Average score (15.166666666666666)\n",
            "Win/lose count 17.0/7.0. Average score (14.428571428571429)\n",
            "Win/lose count 28.5/15.0. Average score (14.3125)\n",
            "Win/lose count 22.0/13.0. Average score (13.722222222222221)\n",
            "Win/lose count 27.0/8.0. Average score (14.25)\n",
            "Win/lose count 20.5/8.0. Average score (14.090909090909092)\n",
            "Win/lose count 22.0/8.0. Average score (14.083333333333334)\n",
            "Win/lose count 28.0/10.0. Average score (14.384615384615385)\n",
            "Win/lose count 27.0/9.0. Average score (14.642857142857142)\n",
            "Win/lose count 27.5/7.0. Average score (15.033333333333333)\n",
            "Win/lose count 26.5/11.0. Average score (15.0625)\n",
            "Win/lose count 21.0/12.0. Average score (14.705882352941176)\n",
            "Win/lose count 21.5/5.0. Average score (14.805555555555555)\n",
            "Win/lose count 28.0/3.0. Average score (15.342105263157896)\n",
            "Win/lose count 25.5/7.0. Average score (15.5)\n",
            "Win/lose count 26.0/9.0. Average score (15.571428571428571)\n",
            "Win/lose count 20.5/10.0. Average score (15.340909090909092)\n",
            "Win/lose count 19.0/10.0. Average score (15.065217391304348)\n",
            "Win/lose count 24.0/12.0. Average score (14.9375)\n",
            "Win/lose count 20.5/10.0. Average score (14.76)\n",
            "Win/lose count 24.5/11.0. Average score (14.711538461538462)\n",
            "Win/lose count 21.5/7.0. Average score (14.703703703703704)\n",
            "Win/lose count 17.0/12.0. Average score (14.357142857142858)\n",
            "Win/lose count 24.0/12.0. Average score (14.275862068965518)\n",
            "Win/lose count 23.0/9.0. Average score (14.266666666666667)\n",
            "Win/lose count 20.0/12.0. Average score (14.064516129032258)\n",
            "Win/lose count 24.5/9.0. Average score (14.109375)\n",
            "Win/lose count 30.0/11.0. Average score (14.257575757575758)\n",
            "Win/lose count 19.5/6.0. Average score (14.235294117647058)\n",
            "Win/lose count 25.0/8.0. Average score (14.314285714285715)\n",
            "Win/lose count 26.0/9.0. Average score (14.38888888888889)\n",
            "Win/lose count 19.5/5.0. Average score (14.391891891891891)\n",
            "Win/lose count 23.0/5.0. Average score (14.486842105263158)\n",
            "Win/lose count 16.5/10.0. Average score (14.282051282051283)\n",
            "Win/lose count 20.0/11.0. Average score (14.15)\n",
            "Win/lose count 24.0/7.0. Average score (14.21951219512195)\n",
            "Win/lose count 23.0/6.0. Average score (14.285714285714286)\n",
            "Win/lose count 27.0/8.0. Average score (14.395348837209303)\n",
            "Win/lose count 22.0/8.0. Average score (14.386363636363637)\n",
            "Win/lose count 23.5/15.0. Average score (14.255555555555556)\n",
            "Win/lose count 24.0/13.0. Average score (14.184782608695652)\n",
            "Win/lose count 20.0/11.0. Average score (14.074468085106384)\n",
            "Win/lose count 21.0/6.0. Average score (14.09375)\n",
            "Win/lose count 15.5/3.0. Average score (14.061224489795919)\n",
            "Win/lose count 21.5/5.0. Average score (14.11)\n",
            "Win/lose count 16.5/10.0. Average score (13.96078431372549)\n",
            "Win/lose count 26.5/11.0. Average score (13.990384615384615)\n",
            "Win/lose count 24.0/11.0. Average score (13.971698113207546)\n",
            "Win/lose count 18.5/10.0. Average score (13.87037037037037)\n",
            "Win/lose count 23.5/9.0. Average score (13.881818181818181)\n",
            "Win/lose count 25.0/12.0. Average score (13.866071428571429)\n",
            "Win/lose count 21.5/8.0. Average score (13.859649122807017)\n",
            "Win/lose count 19.5/7.0. Average score (13.836206896551724)\n",
            "Win/lose count 23.5/7.0. Average score (13.88135593220339)\n",
            "Win/lose count 23.0/10.0. Average score (13.866666666666667)\n",
            "Win/lose count 22.0/11.0. Average score (13.819672131147541)\n",
            "Win/lose count 22.0/13.0. Average score (13.741935483870968)\n",
            "Win/lose count 26.0/9.0. Average score (13.793650793650794)\n",
            "Win/lose count 20.0/12.0. Average score (13.703125)\n",
            "Win/lose count 21.5/6.0. Average score (13.73076923076923)\n",
            "Win/lose count 15.0/13.0. Average score (13.553030303030303)\n",
            "Win/lose count 23.5/10.0. Average score (13.552238805970148)\n",
            "Win/lose count 25.0/8.0. Average score (13.602941176470589)\n",
            "Win/lose count 22.5/20.0. Average score (13.442028985507246)\n",
            "Win/lose count 18.5/9.0. Average score (13.385714285714286)\n",
            "Win/lose count 18.5/11.0. Average score (13.30281690140845)\n",
            "Win/lose count 26.5/6.0. Average score (13.402777777777779)\n",
            "Win/lose count 17.5/11.0. Average score (13.308219178082192)\n",
            "Win/lose count 22.0/7.0. Average score (13.33108108108108)\n",
            "Win/lose count 24.0/9.0. Average score (13.353333333333333)\n",
            "Win/lose count 27.0/5.0. Average score (13.467105263157896)\n",
            "Win/lose count 21.5/10.0. Average score (13.441558441558442)\n",
            "Win/lose count 20.5/5.0. Average score (13.467948717948717)\n",
            "Win/lose count 26.5/11.0. Average score (13.49367088607595)\n",
            "Win/lose count 24.0/8.0. Average score (13.525)\n",
            "Win/lose count 20.5/10.0. Average score (13.487654320987655)\n",
            "Win/lose count 23.0/3.0. Average score (13.567073170731707)\n",
            "Win/lose count 23.0/18.0. Average score (13.463855421686747)\n",
            "Win/lose count 25.0/4.0. Average score (13.553571428571429)\n",
            "Win/lose count 18.5/8.0. Average score (13.51764705882353)\n",
            "Win/lose count 26.0/7.0. Average score (13.581395348837209)\n",
            "Win/lose count 19.5/10.0. Average score (13.53448275862069)\n",
            "Win/lose count 22.0/7.0. Average score (13.551136363636363)\n",
            "Win/lose count 19.0/7.0. Average score (13.53370786516854)\n",
            "Win/lose count 31.5/8.0. Average score (13.644444444444444)\n",
            "Win/lose count 23.0/11.0. Average score (13.626373626373626)\n",
            "Win/lose count 22.5/8.0. Average score (13.63586956521739)\n",
            "Win/lose count 20.5/13.0. Average score (13.56989247311828)\n",
            "Win/lose count 29.5/8.0. Average score (13.654255319148936)\n",
            "Win/lose count 21.0/10.0. Average score (13.626315789473685)\n",
            "Win/lose count 20.0/7.0. Average score (13.619791666666666)\n",
            "Win/lose count 17.5/14.0. Average score (13.515463917525773)\n",
            "Win/lose count 23.5/12.0. Average score (13.494897959183673)\n",
            "Win/lose count 19.5/15.0. Average score (13.404040404040405)\n",
            "Win/lose count 18.5/7.0. Average score (13.385)\n",
            "Final score: 13.385\n"
          ],
          "name": "stdout"
        },
        {
          "output_type": "execute_result",
          "data": {
            "text/html": [
              "<video alt=\"test\" controls>\n",
              "                <source src=\"data:video/mp4;base64,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\" type=\"video/mp4\" />\n",
              "             </video>"
            ],
            "text/plain": [
              "<IPython.core.display.HTML object>"
            ]
          },
          "metadata": {
            "tags": []
          },
          "execution_count": 28
        }
      ]
    },
    {
      "cell_type": "code",
      "metadata": {
        "id": "bm1xEs6hBNP9",
        "colab_type": "code",
        "colab": {
          "base_uri": "https://localhost:8080/",
          "height": 282
        },
        "outputId": "aeae4c51-ffd2-4987-a5fa-1cbc5980c019"
      },
      "source": [
        "plt.plot(scores)"
      ],
      "execution_count": 29,
      "outputs": [
        {
          "output_type": "execute_result",
          "data": {
            "text/plain": [
              "[<matplotlib.lines.Line2D at 0x7f8c7bbb4ef0>]"
            ]
          },
          "metadata": {
            "tags": []
          },
          "execution_count": 29
        },
        {
          "output_type": "display_data",
          "data": {
            "image/png": "[encoded data removed]",
            "text/plain": [
              "<Figure size 432x288 with 1 Axes>"
            ]
          },
          "metadata": {
            "tags": []
          }
        }
      ]
    },
    {
      "cell_type": "markdown",
      "metadata": {
        "id": "WacF6fsO8awJ",
        "colab_type": "text"
      },
      "source": [
        "***\n",
        "***\n",
        "__BONUS question__ Use the expert DQN from the previous question to generate some winning games. Train a model that mimicks its behavior. Compare the performances."
      ]
    },
    {
      "cell_type": "markdown",
      "metadata": {
        "id": "3XdhQgYX8awL",
        "colab_type": "text"
      },
      "source": [
        "The model that mimicks the behaviour of the previous model has almost the same score. Also the new model behaves as the model from which it learned."
      ]
    },
    {
      "cell_type": "code",
      "metadata": {
        "id": "n-p1TZJTGPuo",
        "colab_type": "code",
        "colab": {}
      },
      "source": [
        "def gen_wining_games(agent, env, n_games=1000):\n",
        "    \"\"\"Function for generating winning games.\"\"\"\n",
        "    i = 0 # count generated games\n",
        "    m = env.max_time+1\n",
        "    n = agent.n_state\n",
        "    a = agent.n_action\n",
        "\n",
        "    input_states = np.zeros((n_games, m, 5, 5, n))\n",
        "    target_a = np.zeros((n_games, m))\n",
        "    \n",
        "    while(i < n_games):\n",
        "        game_over = False\n",
        "        win, lose = [0, 0] # tracking the score\n",
        "\n",
        "        state = env.reset() #starting state\n",
        "\n",
        "        while not game_over:\n",
        "            input_states[i, env.t, :, :, :] = state # append the state\n",
        "            # The agent performs an action\n",
        "            action = agent.act(state)\n",
        "            target_a[i,env.t] = action\n",
        "\n",
        "            # Apply an action to the environment, get the next state, the reward\n",
        "            # and if the games end\n",
        "            state, reward, game_over = env.act(action)\n",
        "\n",
        "            # Update the counters\n",
        "            if reward > 0:\n",
        "                win = win + reward\n",
        "            if reward < 0:\n",
        "                lose = lose -reward\n",
        "        \n",
        "        if (win < lose): # remove if game is lost\n",
        "            input_states[i, :, :, :, :] = 0\n",
        "            target_a[i, :] = 0\n",
        "        else:\n",
        "            i += 1\n",
        "            if i%100 == 0:\n",
        "                print(\"generated: %d\"%i)\n",
        "    return input_states, target_a"
      ],
      "execution_count": 0,
      "outputs": []
    },
    {
      "cell_type": "code",
      "metadata": {
        "id": "SLJGjF6SDw9Y",
        "colab_type": "code",
        "colab": {}
      },
      "source": [
        "class Replay(Agent):\n",
        "    def __init__(self,lr=0.1, epsilon=0.1, n_state=3):\n",
        "        super(Replay, self).__init__(epsilon=epsilon)\n",
        "        self.n_state = n_state\n",
        "        \n",
        "        # model of the agent\n",
        "        model = Sequential([\n",
        "          Conv2D(6, 2, activation='relu', input_shape=(5,5,n_state)),\n",
        "          Conv2D(6, 2, activation='relu'),\n",
        "          Flatten(),\n",
        "          Dense(70, activation='relu'),\n",
        "          Dense(70, activation='relu'),\n",
        "          Dense(70, activation='relu'),\n",
        "          Dense(4, activation='softmax')\n",
        "        ])\n",
        "        \n",
        "        model.compile(sgd(lr=lr, decay=1e-4, momentum=0.0), \"categorical_crossentropy\")\n",
        "        self.model = model\n",
        "\n",
        "    def learned_act(self, s):\n",
        "        # get action from state s\n",
        "        s_ = np.array([s])\n",
        "        return np.argmax(self.model.predict(s_))\n",
        "\n",
        "    def reinforce(self, input_states, target_q):\n",
        "        # Convert labels to categorical one-hot encoding\n",
        "        one_hot_labels = to_categorical(target_q, num_classes=4)\n",
        "        #train the model on a winning game\n",
        "        l = self.model.train_on_batch(input_states, one_hot_labels)\n",
        "\n",
        "        return l\n",
        "\n",
        "    def save(self,name_weights='model.h5',name_model='model.json'):\n",
        "        self.model.save_weights(name_weights, overwrite=True)\n",
        "        with open(name_model, \"w\") as outfile:\n",
        "            json.dump(self.model.to_json(), outfile)\n",
        "            \n",
        "    def load(self,name_weights='model.h5',name_model='model.json'):\n",
        "        with open(name_model, \"r\") as jfile:\n",
        "            model = model_from_json(json.load(jfile))\n",
        "        model.load_weights(name_weights)\n",
        "        model.compile(\"sgd\", \"mse\")\n",
        "        self.model = model"
      ],
      "execution_count": 0,
      "outputs": []
    },
    {
      "cell_type": "code",
      "metadata": {
        "id": "-WjNIPWaMYZp",
        "colab_type": "code",
        "colab": {}
      },
      "source": [
        "def train_replay(agent, games, prefix=''):\n",
        "    \"\"\"Function for training the replay model\"\"\"\n",
        "    states, actions = games\n",
        "    N = actions.shape[0] # number of games\n",
        "    losses = []\n",
        "    loss = 0\n",
        "\n",
        "    for e in range(N):\n",
        "        loss += agent.reinforce(states[e], actions[e])\n",
        "\n",
        "        # Update stats\n",
        "        if e%100 == 99:\n",
        "            losses.append(loss/100)\n",
        "\n",
        "            print(\"Epoch {:03d}/{:03d} | Loss {:.4f}\"\n",
        "                .format(e+1, N, loss/100))\n",
        "            loss = 0\n",
        "            agent.save(name_weights=prefix+'model.h5',name_model=prefix+'model.json')\n",
        "    return losses"
      ],
      "execution_count": 0,
      "outputs": []
    },
    {
      "cell_type": "code",
      "metadata": {
        "id": "a2lKXL2wOxEd",
        "colab_type": "code",
        "colab": {
          "base_uri": "https://localhost:8080/",
          "height": 187
        },
        "outputId": "4f67e20b-6c92-4dd7-c8a6-aa82de441cc1"
      },
      "source": [
        "games = gen_wining_games(agent_dqn, env, n_games=1000)"
      ],
      "execution_count": 33,
      "outputs": [
        {
          "output_type": "stream",
          "text": [
            "generated: 100\n",
            "generated: 200\n",
            "generated: 300\n",
            "generated: 400\n",
            "generated: 500\n",
            "generated: 600\n",
            "generated: 700\n",
            "generated: 800\n",
            "generated: 900\n",
            "generated: 1000\n"
          ],
          "name": "stdout"
        }
      ]
    },
    {
      "cell_type": "code",
      "metadata": {
        "id": "3kkf5qnKLSGY",
        "colab_type": "code",
        "outputId": "2be7cfe4-7acc-4324-de4a-08932b29453b",
        "colab": {
          "base_uri": "https://localhost:8080/",
          "height": 292
        }
      },
      "source": [
        "agent = Replay()\n",
        "losses = train_replay(agent, games, prefix='replay')"
      ],
      "execution_count": 34,
      "outputs": [
        {
          "output_type": "stream",
          "text": [
            "WARNING:tensorflow:From /usr/local/lib/python3.6/dist-packages/keras/backend/tensorflow_backend.py:3576: The name tf.log is deprecated. Please use tf.math.log instead.\n",
            "\n",
            "WARNING:tensorflow:From /usr/local/lib/python3.6/dist-packages/tensorflow_core/python/ops/math_grad.py:1424: where (from tensorflow.python.ops.array_ops) is deprecated and will be removed in a future version.\n",
            "Instructions for updating:\n",
            "Use tf.where in 2.0, which has the same broadcast rule as np.where\n",
            "Epoch 100/1000 | Loss 1.3095\n",
            "Epoch 200/1000 | Loss 1.1915\n",
            "Epoch 300/1000 | Loss 1.0320\n",
            "Epoch 400/1000 | Loss 0.8323\n",
            "Epoch 500/1000 | Loss 0.7391\n",
            "Epoch 600/1000 | Loss 0.6443\n",
            "Epoch 700/1000 | Loss 0.6396\n",
            "Epoch 800/1000 | Loss 0.6111\n",
            "Epoch 900/1000 | Loss 0.6005\n",
            "Epoch 1000/1000 | Loss 0.5735\n"
          ],
          "name": "stdout"
        }
      ]
    },
    {
      "cell_type": "code",
      "metadata": {
        "id": "mqzXHAr3RNCL",
        "colab_type": "code",
        "colab": {
          "base_uri": "https://localhost:8080/",
          "height": 1000
        },
        "outputId": "01c83087-6bb0-44b6-f791-a1ea6e4f7d30"
      },
      "source": [
        "scores = test(agent,env,epochs_test,prefix='replay')"
      ],
      "execution_count": 35,
      "outputs": [
        {
          "output_type": "stream",
          "text": [
            "Win/lose count 20.0/12.0. Average score (8.0)\n",
            "Win/lose count 21.5/6.0. Average score (11.75)\n",
            "Win/lose count 22.0/6.0. Average score (13.166666666666666)\n",
            "Win/lose count 20.0/13.0. Average score (11.625)\n",
            "Win/lose count 19.0/6.0. Average score (11.9)\n",
            "Win/lose count 15.5/8.0. Average score (11.166666666666666)\n",
            "Win/lose count 21.5/6.0. Average score (11.785714285714286)\n",
            "Win/lose count 23.5/7.0. Average score (12.375)\n",
            "Win/lose count 16.5/12.0. Average score (11.5)\n",
            "Win/lose count 19.5/8.0. Average score (11.5)\n",
            "Win/lose count 24.0/5.0. Average score (12.181818181818182)\n",
            "Win/lose count 19.5/6.0. Average score (12.291666666666666)\n",
            "Win/lose count 13.5/9.0. Average score (11.692307692307692)\n",
            "Win/lose count 19.0/6.0. Average score (11.785714285714286)\n",
            "Win/lose count 21.0/5.0. Average score (12.066666666666666)\n",
            "Win/lose count 20.5/7.0. Average score (12.15625)\n",
            "Win/lose count 23.0/12.0. Average score (12.088235294117647)\n",
            "Win/lose count 19.0/10.0. Average score (11.916666666666666)\n",
            "Win/lose count 17.0/7.0. Average score (11.81578947368421)\n",
            "Win/lose count 23.5/5.0. Average score (12.15)\n",
            "Win/lose count 20.5/7.0. Average score (12.214285714285714)\n",
            "Win/lose count 25.5/8.0. Average score (12.454545454545455)\n",
            "Win/lose count 20.5/11.0. Average score (12.326086956521738)\n",
            "Win/lose count 20.5/11.0. Average score (12.208333333333334)\n",
            "Win/lose count 21.5/7.0. Average score (12.3)\n",
            "Win/lose count 26.5/9.0. Average score (12.5)\n",
            "Win/lose count 25.0/4.0. Average score (12.814814814814815)\n",
            "Win/lose count 24.0/9.0. Average score (12.892857142857142)\n",
            "Win/lose count 12.5/9.0. Average score (12.568965517241379)\n",
            "Win/lose count 23.0/4.0. Average score (12.783333333333333)\n",
            "Win/lose count 22.5/6.0. Average score (12.903225806451612)\n",
            "Win/lose count 19.5/8.0. Average score (12.859375)\n",
            "Win/lose count 22.5/3.0. Average score (13.06060606060606)\n",
            "Win/lose count 20.5/7.0. Average score (13.073529411764707)\n",
            "Win/lose count 16.5/7.0. Average score (12.971428571428572)\n",
            "Win/lose count 25.5/8.0. Average score (13.097222222222221)\n",
            "Win/lose count 17.0/5.0. Average score (13.067567567567568)\n",
            "Win/lose count 19.0/6.0. Average score (13.06578947368421)\n",
            "Win/lose count 17.5/7.0. Average score (13.0)\n",
            "Win/lose count 19.5/5.0. Average score (13.0375)\n",
            "Win/lose count 15.5/6.0. Average score (12.951219512195122)\n",
            "Win/lose count 22.5/7.0. Average score (13.011904761904763)\n",
            "Win/lose count 29.5/7.0. Average score (13.232558139534884)\n",
            "Win/lose count 16.5/9.0. Average score (13.102272727272727)\n",
            "Win/lose count 19.5/5.0. Average score (13.133333333333333)\n",
            "Win/lose count 22.5/7.0. Average score (13.184782608695652)\n",
            "Win/lose count 18.5/5.0. Average score (13.191489361702128)\n",
            "Win/lose count 30.5/9.0. Average score (13.364583333333334)\n",
            "Win/lose count 20.5/7.0. Average score (13.36734693877551)\n",
            "Win/lose count 22.5/12.0. Average score (13.31)\n",
            "Win/lose count 22.5/11.0. Average score (13.27450980392157)\n",
            "Win/lose count 13.0/9.0. Average score (13.096153846153847)\n",
            "Win/lose count 19.5/10.0. Average score (13.028301886792454)\n",
            "Win/lose count 26.5/8.0. Average score (13.12962962962963)\n",
            "Win/lose count 20.0/10.0. Average score (13.072727272727272)\n",
            "Win/lose count 17.5/13.0. Average score (12.919642857142858)\n",
            "Win/lose count 21.5/16.0. Average score (12.789473684210526)\n",
            "Win/lose count 24.5/7.0. Average score (12.870689655172415)\n",
            "Win/lose count 18.0/13.0. Average score (12.73728813559322)\n",
            "Win/lose count 22.0/7.0. Average score (12.775)\n",
            "Win/lose count 16.5/14.0. Average score (12.60655737704918)\n",
            "Win/lose count 26.0/4.0. Average score (12.758064516129032)\n",
            "Win/lose count 22.0/9.0. Average score (12.761904761904763)\n",
            "Win/lose count 17.0/9.0. Average score (12.6875)\n",
            "Win/lose count 23.0/7.0. Average score (12.738461538461538)\n",
            "Win/lose count 19.5/8.0. Average score (12.719696969696969)\n",
            "Win/lose count 19.0/10.0. Average score (12.664179104477611)\n",
            "Win/lose count 22.0/7.0. Average score (12.698529411764707)\n",
            "Win/lose count 22.5/4.0. Average score (12.782608695652174)\n",
            "Win/lose count 19.5/12.0. Average score (12.707142857142857)\n",
            "Win/lose count 25.0/6.0. Average score (12.795774647887324)\n",
            "Win/lose count 22.0/7.0. Average score (12.82638888888889)\n",
            "Win/lose count 18.5/11.0. Average score (12.753424657534246)\n",
            "Win/lose count 18.5/6.0. Average score (12.75)\n",
            "Win/lose count 18.5/6.0. Average score (12.746666666666666)\n",
            "Win/lose count 24.5/4.0. Average score (12.848684210526315)\n",
            "Win/lose count 21.5/7.0. Average score (12.87012987012987)\n",
            "Win/lose count 17.5/10.0. Average score (12.801282051282051)\n",
            "Win/lose count 24.5/5.0. Average score (12.886075949367088)\n",
            "Win/lose count 27.0/6.0. Average score (12.9875)\n",
            "Win/lose count 23.0/10.0. Average score (12.987654320987655)\n",
            "Win/lose count 18.5/5.0. Average score (12.99390243902439)\n",
            "Win/lose count 20.0/6.0. Average score (13.006024096385541)\n",
            "Win/lose count 23.0/10.0. Average score (13.005952380952381)\n",
            "Win/lose count 23.0/3.0. Average score (13.088235294117647)\n",
            "Win/lose count 21.5/4.0. Average score (13.13953488372093)\n",
            "Win/lose count 17.0/5.0. Average score (13.126436781609195)\n",
            "Win/lose count 27.0/5.0. Average score (13.227272727272727)\n",
            "Win/lose count 21.5/7.0. Average score (13.241573033707866)\n",
            "Win/lose count 22.0/10.0. Average score (13.227777777777778)\n",
            "Win/lose count 21.0/7.0. Average score (13.236263736263735)\n",
            "Win/lose count 23.5/12.0. Average score (13.217391304347826)\n",
            "Win/lose count 18.5/4.0. Average score (13.231182795698924)\n",
            "Win/lose count 22.0/7.0. Average score (13.25)\n",
            "Win/lose count 22.5/6.0. Average score (13.284210526315789)\n",
            "Win/lose count 26.0/7.0. Average score (13.34375)\n",
            "Win/lose count 23.5/5.0. Average score (13.396907216494846)\n",
            "Win/lose count 21.0/9.0. Average score (13.38265306122449)\n",
            "Win/lose count 16.0/5.0. Average score (13.358585858585858)\n",
            "Win/lose count 22.5/10.0. Average score (13.35)\n",
            "Final score: 13.35\n"
          ],
          "name": "stdout"
        }
      ]
    },
    {
      "cell_type": "code",
      "metadata": {
        "id": "IjDMMyyiYa2m",
        "colab_type": "code",
        "colab": {
          "base_uri": "https://localhost:8080/",
          "height": 293
        },
        "outputId": "f3f78303-9dbe-4493-9a78-e4484064cbea"
      },
      "source": [
        "HTML(display_videos('replay0.mp4'))"
      ],
      "execution_count": 36,
      "outputs": [
        {
          "output_type": "execute_result",
          "data": {
            "text/html": [
              "<video alt=\"test\" controls>\n",
              "                <source src=\"data:video/mp4;base64,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\" type=\"video/mp4\" />\n",
              "             </video>"
            ],
            "text/plain": [
              "<IPython.core.display.HTML object>"
            ]
          },
          "metadata": {
            "tags": []
          },
          "execution_count": 36
        }
      ]
    },
    {
      "cell_type": "code",
      "metadata": {
        "id": "33nUFEyLXRyT",
        "colab_type": "code",
        "colab": {
          "base_uri": "https://localhost:8080/",
          "height": 282
        },
        "outputId": "b8bafde6-7ad3-47f2-d3ad-53a07d072882"
      },
      "source": [
        "plt.plot(scores)"
      ],
      "execution_count": 37,
      "outputs": [
        {
          "output_type": "execute_result",
          "data": {
            "text/plain": [
              "[<matplotlib.lines.Line2D at 0x7f8c7b9f05c0>]"
            ]
          },
          "metadata": {
            "tags": []
          },
          "execution_count": 37
        },
        {
          "output_type": "display_data",
          "data": {
            "image/png": "[encoded data removed]",
            "text/plain": [
              "<Figure size 432x288 with 1 Axes>"
            ]
          },
          "metadata": {
            "tags": []
          }
        }
      ]
    },
    {
      "cell_type": "markdown",
      "metadata": {
        "id": "j6593v4H8awP",
        "colab_type": "text"
      },
      "source": [
        "***"
      ]
    }
  ]
}